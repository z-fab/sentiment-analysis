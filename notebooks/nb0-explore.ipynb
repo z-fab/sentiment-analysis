{
 "cells": [
  {
   "cell_type": "markdown",
   "id": "8dbda1fe",
   "metadata": {},
   "source": [
    "# Exploração Dados"
   ]
  },
  {
   "cell_type": "code",
   "execution_count": 35,
   "id": "ad3e4d91",
   "metadata": {},
   "outputs": [],
   "source": [
    "import sqlalchemy as sa\n",
    "import polars as pl\n",
    "from pathlib import Path\n",
    "\n",
    "DB_PATH = Path().resolve().parent / \"data\" / \"olist.db\"\n",
    "engine  = sa.create_engine(f\"sqlite:///{DB_PATH}\")"
   ]
  },
  {
   "cell_type": "markdown",
   "id": "e3c063e4",
   "metadata": {},
   "source": [
    "Verificando as colunas da tabela"
   ]
  },
  {
   "cell_type": "code",
   "execution_count": 36,
   "id": "52f3d9f7",
   "metadata": {},
   "outputs": [
    {
     "name": "stdout",
     "output_type": "stream",
     "text": [
      "review_id VARCHAR(50)\n",
      "order_id VARCHAR(50)\n",
      "review_score INTEGER\n",
      "review_comment_title VARCHAR(50)\n",
      "review_comment_message VARCHAR(256)\n",
      "review_creation_date VARCHAR(50)\n",
      "review_answer_timestamp VARCHAR(50)\n"
     ]
    }
   ],
   "source": [
    "insp = sa.inspect(engine)\n",
    "for col in insp.get_columns(\"order_reviews\"):\n",
    "    print(col[\"name\"], col[\"type\"])"
   ]
  },
  {
   "cell_type": "code",
   "execution_count": 37,
   "id": "519a58ec",
   "metadata": {},
   "outputs": [
    {
     "data": {
      "text/html": [
       "<div><style>\n",
       ".dataframe > thead > tr,\n",
       ".dataframe > tbody > tr {\n",
       "  text-align: right;\n",
       "  white-space: pre-wrap;\n",
       "}\n",
       "</style>\n",
       "<small>shape: (5, 7)</small><table border=\"1\" class=\"dataframe\"><thead><tr><th>review_id</th><th>order_id</th><th>review_score</th><th>review_comment_title</th><th>review_comment_message</th><th>review_creation_date</th><th>review_answer_timestamp</th></tr><tr><td>str</td><td>str</td><td>i64</td><td>str</td><td>str</td><td>str</td><td>str</td></tr></thead><tbody><tr><td>&quot;7bc2406110b926393aa56f80a40eba…</td><td>&quot;73fc7af87114b39712e6da79b0a377…</td><td>4</td><td>null</td><td>null</td><td>&quot;2018-01-18 00:00:00&quot;</td><td>&quot;2018-01-18 21:46:59&quot;</td></tr><tr><td>&quot;80e641a11e56f04c1ad469d5645fdf…</td><td>&quot;a548910a1c6147796b98fdf73dbeba…</td><td>5</td><td>null</td><td>null</td><td>&quot;2018-03-10 00:00:00&quot;</td><td>&quot;2018-03-11 03:05:13&quot;</td></tr><tr><td>&quot;228ce5500dc1d8e020d8d1322874b6…</td><td>&quot;f9e4b658b201a9f2ecdecbb34bed03…</td><td>5</td><td>null</td><td>null</td><td>&quot;2018-02-17 00:00:00&quot;</td><td>&quot;2018-02-18 14:36:24&quot;</td></tr><tr><td>&quot;e64fb393e7b32834bb789ff8bb3075…</td><td>&quot;658677c97b385a9be170737859d351…</td><td>5</td><td>null</td><td>&quot;Recebi bem antes do prazo esti…</td><td>&quot;2017-04-21 00:00:00&quot;</td><td>&quot;2017-04-21 22:02:06&quot;</td></tr><tr><td>&quot;f7c4243c7fe1938f181bec41a392bd…</td><td>&quot;8e6bfb81e283fa7e4f11123a3fb894…</td><td>5</td><td>null</td><td>&quot;Parabéns lojas lannister adore…</td><td>&quot;2018-03-01 00:00:00&quot;</td><td>&quot;2018-03-02 10:26:53&quot;</td></tr></tbody></table></div>"
      ],
      "text/plain": [
       "shape: (5, 7)\n",
       "┌──────────────┬─────────────┬─────────────┬─────────────┬─────────────┬─────────────┬─────────────┐\n",
       "│ review_id    ┆ order_id    ┆ review_scor ┆ review_comm ┆ review_comm ┆ review_crea ┆ review_answ │\n",
       "│ ---          ┆ ---         ┆ e           ┆ ent_title   ┆ ent_message ┆ tion_date   ┆ er_timestam │\n",
       "│ str          ┆ str         ┆ ---         ┆ ---         ┆ ---         ┆ ---         ┆ p           │\n",
       "│              ┆             ┆ i64         ┆ str         ┆ str         ┆ str         ┆ ---         │\n",
       "│              ┆             ┆             ┆             ┆             ┆             ┆ str         │\n",
       "╞══════════════╪═════════════╪═════════════╪═════════════╪═════════════╪═════════════╪═════════════╡\n",
       "│ 7bc2406110b9 ┆ 73fc7af8711 ┆ 4           ┆ null        ┆ null        ┆ 2018-01-18  ┆ 2018-01-18  │\n",
       "│ 26393aa56f80 ┆ 4b39712e6da ┆             ┆             ┆             ┆ 00:00:00    ┆ 21:46:59    │\n",
       "│ a40eba…      ┆ 79b0a377…   ┆             ┆             ┆             ┆             ┆             │\n",
       "│ 80e641a11e56 ┆ a548910a1c6 ┆ 5           ┆ null        ┆ null        ┆ 2018-03-10  ┆ 2018-03-11  │\n",
       "│ f04c1ad469d5 ┆ 147796b98fd ┆             ┆             ┆             ┆ 00:00:00    ┆ 03:05:13    │\n",
       "│ 645fdf…      ┆ f73dbeba…   ┆             ┆             ┆             ┆             ┆             │\n",
       "│ 228ce5500dc1 ┆ f9e4b658b20 ┆ 5           ┆ null        ┆ null        ┆ 2018-02-17  ┆ 2018-02-18  │\n",
       "│ d8e020d8d132 ┆ 1a9f2ecdecb ┆             ┆             ┆             ┆ 00:00:00    ┆ 14:36:24    │\n",
       "│ 2874b6…      ┆ b34bed03…   ┆             ┆             ┆             ┆             ┆             │\n",
       "│ e64fb393e7b3 ┆ 658677c97b3 ┆ 5           ┆ null        ┆ Recebi bem  ┆ 2017-04-21  ┆ 2017-04-21  │\n",
       "│ 2834bb789ff8 ┆ 85a9be17073 ┆             ┆             ┆ antes do    ┆ 00:00:00    ┆ 22:02:06    │\n",
       "│ bb3075…      ┆ 7859d351…   ┆             ┆             ┆ prazo esti… ┆             ┆             │\n",
       "│ f7c4243c7fe1 ┆ 8e6bfb81e28 ┆ 5           ┆ null        ┆ Parabéns    ┆ 2018-03-01  ┆ 2018-03-02  │\n",
       "│ 938f181bec41 ┆ 3fa7e4f1112 ┆             ┆             ┆ lojas       ┆ 00:00:00    ┆ 10:26:53    │\n",
       "│ a392bd…      ┆ 3a3fb894…   ┆             ┆             ┆ lannister   ┆             ┆             │\n",
       "│              ┆             ┆             ┆             ┆ adore…      ┆             ┆             │\n",
       "└──────────────┴─────────────┴─────────────┴─────────────┴─────────────┴─────────────┴─────────────┘"
      ]
     },
     "execution_count": 37,
     "metadata": {},
     "output_type": "execute_result"
    }
   ],
   "source": [
    "df_reviews = pl.read_database(\"SELECT * FROM order_reviews\", connection=engine)\n",
    "df_reviews.head()"
   ]
  },
  {
   "cell_type": "markdown",
   "id": "8fd217f7",
   "metadata": {},
   "source": [
    "## Exploração dos dados"
   ]
  },
  {
   "cell_type": "code",
   "execution_count": 38,
   "id": "38bea87d",
   "metadata": {},
   "outputs": [
    {
     "data": {
      "text/html": [
       "<div><style>\n",
       ".dataframe > thead > tr,\n",
       ".dataframe > tbody > tr {\n",
       "  text-align: right;\n",
       "  white-space: pre-wrap;\n",
       "}\n",
       "</style>\n",
       "<small>shape: (9, 8)</small><table border=\"1\" class=\"dataframe\"><thead><tr><th>statistic</th><th>review_id</th><th>order_id</th><th>review_score</th><th>review_comment_title</th><th>review_comment_message</th><th>review_creation_date</th><th>review_answer_timestamp</th></tr><tr><td>str</td><td>str</td><td>str</td><td>f64</td><td>str</td><td>str</td><td>str</td><td>str</td></tr></thead><tbody><tr><td>&quot;count&quot;</td><td>&quot;77916&quot;</td><td>&quot;77916&quot;</td><td>77916.0</td><td>&quot;9203&quot;</td><td>&quot;32215&quot;</td><td>&quot;77916&quot;</td><td>&quot;77916&quot;</td></tr><tr><td>&quot;null_count&quot;</td><td>&quot;0&quot;</td><td>&quot;0&quot;</td><td>0.0</td><td>&quot;68713&quot;</td><td>&quot;45701&quot;</td><td>&quot;0&quot;</td><td>&quot;0&quot;</td></tr><tr><td>&quot;mean&quot;</td><td>null</td><td>null</td><td>4.084732</td><td>null</td><td>null</td><td>null</td><td>null</td></tr><tr><td>&quot;std&quot;</td><td>null</td><td>null</td><td>1.348519</td><td>null</td><td>null</td><td>null</td><td>null</td></tr><tr><td>&quot;min&quot;</td><td>&quot;0001239bc1de2e33cb583967c2ca4c…</td><td>&quot;00010242fe8c5a6d1ba2dd792cb162…</td><td>1.0</td><td>&quot;!!!!!!!&quot;</td><td>&quot;!!!!!!&quot;</td><td>&quot;2016-10-02 00:00:00&quot;</td><td>&quot;2016-10-07 18:32:28&quot;</td></tr><tr><td>&quot;25%&quot;</td><td>null</td><td>null</td><td>4.0</td><td>null</td><td>null</td><td>null</td><td>null</td></tr><tr><td>&quot;50%&quot;</td><td>null</td><td>null</td><td>5.0</td><td>null</td><td>null</td><td>null</td><td>null</td></tr><tr><td>&quot;75%&quot;</td><td>null</td><td>null</td><td>5.0</td><td>null</td><td>null</td><td>null</td><td>null</td></tr><tr><td>&quot;max&quot;</td><td>&quot;fffefe7a48d22f7b32046421062219…</td><td>&quot;fffe18544ffabc95dfada21779c964…</td><td>5.0</td><td>&quot;🔟&quot;</td><td>&quot;😍😍👧💅 amei e chegou até antes d…</td><td>&quot;2018-08-31 00:00:00&quot;</td><td>&quot;2018-10-26 21:36:41&quot;</td></tr></tbody></table></div>"
      ],
      "text/plain": [
       "shape: (9, 8)\n",
       "┌────────────┬────────────┬────────────┬───────────┬───────────┬───────────┬───────────┬───────────┐\n",
       "│ statistic  ┆ review_id  ┆ order_id   ┆ review_sc ┆ review_co ┆ review_co ┆ review_cr ┆ review_an │\n",
       "│ ---        ┆ ---        ┆ ---        ┆ ore       ┆ mment_tit ┆ mment_mes ┆ eation_da ┆ swer_time │\n",
       "│ str        ┆ str        ┆ str        ┆ ---       ┆ le        ┆ sage      ┆ te        ┆ stamp     │\n",
       "│            ┆            ┆            ┆ f64       ┆ ---       ┆ ---       ┆ ---       ┆ ---       │\n",
       "│            ┆            ┆            ┆           ┆ str       ┆ str       ┆ str       ┆ str       │\n",
       "╞════════════╪════════════╪════════════╪═══════════╪═══════════╪═══════════╪═══════════╪═══════════╡\n",
       "│ count      ┆ 77916      ┆ 77916      ┆ 77916.0   ┆ 9203      ┆ 32215     ┆ 77916     ┆ 77916     │\n",
       "│ null_count ┆ 0          ┆ 0          ┆ 0.0       ┆ 68713     ┆ 45701     ┆ 0         ┆ 0         │\n",
       "│ mean       ┆ null       ┆ null       ┆ 4.084732  ┆ null      ┆ null      ┆ null      ┆ null      │\n",
       "│ std        ┆ null       ┆ null       ┆ 1.348519  ┆ null      ┆ null      ┆ null      ┆ null      │\n",
       "│ min        ┆ 0001239bc1 ┆ 00010242fe ┆ 1.0       ┆ !!!!!!!   ┆ !!!!!!    ┆ 2016-10-0 ┆ 2016-10-0 │\n",
       "│            ┆ de2e33cb58 ┆ 8c5a6d1ba2 ┆           ┆           ┆           ┆ 2         ┆ 7         │\n",
       "│            ┆ 3967c2ca4c ┆ dd792cb162 ┆           ┆           ┆           ┆ 00:00:00  ┆ 18:32:28  │\n",
       "│            ┆ …          ┆ …          ┆           ┆           ┆           ┆           ┆           │\n",
       "│ 25%        ┆ null       ┆ null       ┆ 4.0       ┆ null      ┆ null      ┆ null      ┆ null      │\n",
       "│ 50%        ┆ null       ┆ null       ┆ 5.0       ┆ null      ┆ null      ┆ null      ┆ null      │\n",
       "│ 75%        ┆ null       ┆ null       ┆ 5.0       ┆ null      ┆ null      ┆ null      ┆ null      │\n",
       "│ max        ┆ fffefe7a48 ┆ fffe18544f ┆ 5.0       ┆ 🔟        ┆ 😍😍👧💅  ┆ 2018-08-3 ┆ 2018-10-2 │\n",
       "│            ┆ d22f7b3204 ┆ fabc95dfad ┆           ┆           ┆ amei e    ┆ 1         ┆ 6         │\n",
       "│            ┆ 6421062219 ┆ a21779c964 ┆           ┆           ┆ chegou    ┆ 00:00:00  ┆ 21:36:41  │\n",
       "│            ┆ …          ┆ …          ┆           ┆           ┆ até antes ┆           ┆           │\n",
       "│            ┆            ┆            ┆           ┆           ┆ d…        ┆           ┆           │\n",
       "└────────────┴────────────┴────────────┴───────────┴───────────┴───────────┴───────────┴───────────┘"
      ]
     },
     "execution_count": 38,
     "metadata": {},
     "output_type": "execute_result"
    }
   ],
   "source": [
    "df_reviews.shape\n",
    "df_reviews.describe()"
   ]
  },
  {
   "cell_type": "markdown",
   "id": "d6f39adf",
   "metadata": {},
   "source": [
    "> Existem pedidos sem comentários"
   ]
  },
  {
   "cell_type": "code",
   "execution_count": 62,
   "id": "bfb354a5",
   "metadata": {},
   "outputs": [
    {
     "data": {
      "text/html": [
       "<div><style>\n",
       ".dataframe > thead > tr,\n",
       ".dataframe > tbody > tr {\n",
       "  text-align: right;\n",
       "  white-space: pre-wrap;\n",
       "}\n",
       "</style>\n",
       "<small>shape: (77_416, 2)</small><table border=\"1\" class=\"dataframe\"><thead><tr><th>review_id</th><th>len</th></tr><tr><td>str</td><td>u32</td></tr></thead><tbody><tr><td>&quot;1da977ddd6ff906abadbc858ad0f8c…</td><td>1</td></tr><tr><td>&quot;e71d03b24e7694b4bf626123f55f4f…</td><td>1</td></tr><tr><td>&quot;98ac0edcf4401c2087a8258023bf7c…</td><td>1</td></tr><tr><td>&quot;b9c3397cf16b3986da2b31865d62ad…</td><td>1</td></tr><tr><td>&quot;216c748e504c4bc25804d97340c9e2…</td><td>1</td></tr><tr><td>&hellip;</td><td>&hellip;</td></tr><tr><td>&quot;2d6ac45f859465b5c185274a1c9296…</td><td>3</td></tr><tr><td>&quot;0c76e7a547a531e7bf9f0b99cba071…</td><td>3</td></tr><tr><td>&quot;4d0e6dd087008d1f992d25ef6e1f61…</td><td>3</td></tr><tr><td>&quot;308316408775d1600dad81bd318455…</td><td>3</td></tr><tr><td>&quot;08528f70f579f0c830189efc523d21…</td><td>3</td></tr></tbody></table></div>"
      ],
      "text/plain": [
       "shape: (77_416, 2)\n",
       "┌─────────────────────────────────┬─────┐\n",
       "│ review_id                       ┆ len │\n",
       "│ ---                             ┆ --- │\n",
       "│ str                             ┆ u32 │\n",
       "╞═════════════════════════════════╪═════╡\n",
       "│ 1da977ddd6ff906abadbc858ad0f8c… ┆ 1   │\n",
       "│ e71d03b24e7694b4bf626123f55f4f… ┆ 1   │\n",
       "│ 98ac0edcf4401c2087a8258023bf7c… ┆ 1   │\n",
       "│ b9c3397cf16b3986da2b31865d62ad… ┆ 1   │\n",
       "│ 216c748e504c4bc25804d97340c9e2… ┆ 1   │\n",
       "│ …                               ┆ …   │\n",
       "│ 2d6ac45f859465b5c185274a1c9296… ┆ 3   │\n",
       "│ 0c76e7a547a531e7bf9f0b99cba071… ┆ 3   │\n",
       "│ 4d0e6dd087008d1f992d25ef6e1f61… ┆ 3   │\n",
       "│ 308316408775d1600dad81bd318455… ┆ 3   │\n",
       "│ 08528f70f579f0c830189efc523d21… ┆ 3   │\n",
       "└─────────────────────────────────┴─────┘"
      ]
     },
     "execution_count": 62,
     "metadata": {},
     "output_type": "execute_result"
    }
   ],
   "source": [
    "df_reviews.group_by(\"review_id\").len().sort(\"len\")"
   ]
  },
  {
   "cell_type": "code",
   "execution_count": 63,
   "id": "f2427865",
   "metadata": {},
   "outputs": [
    {
     "data": {
      "text/html": [
       "<div><style>\n",
       ".dataframe > thead > tr,\n",
       ".dataframe > tbody > tr {\n",
       "  text-align: right;\n",
       "  white-space: pre-wrap;\n",
       "}\n",
       "</style>\n",
       "<small>shape: (77_916, 3)</small><table border=\"1\" class=\"dataframe\"><thead><tr><th>review_id</th><th>order_id</th><th>len</th></tr><tr><td>str</td><td>str</td><td>u32</td></tr></thead><tbody><tr><td>&quot;65df5361954f24e35a37da0f5eff9f…</td><td>&quot;ba57c0b9e68de2a41c388368fcf0db…</td><td>1</td></tr><tr><td>&quot;de4e9ecdf4084e83c67821cbea388c…</td><td>&quot;2059a6cad3cfd50e2f7904f250eb85…</td><td>1</td></tr><tr><td>&quot;cf3fcabff34b05cf4edb8e4c550056…</td><td>&quot;f23bef5ff346873476747ab073a438…</td><td>1</td></tr><tr><td>&quot;679908e3991c84ed3c7fb0bd5bcac3…</td><td>&quot;85e7df94996cce9657127b63f379ac…</td><td>1</td></tr><tr><td>&quot;b14e168def5a296c365fa88768ed51…</td><td>&quot;388815a1ed5c112e3588771ca6d8b2…</td><td>1</td></tr><tr><td>&hellip;</td><td>&hellip;</td><td>&hellip;</td></tr><tr><td>&quot;a83759f3cf587d14dc5d6be6d8c786…</td><td>&quot;2543c6a3c6b09c5f720768e3d6f464…</td><td>1</td></tr><tr><td>&quot;a6d2829ee00cd3e7b03d9dd0c585ce…</td><td>&quot;191869a6145f8263366f4158ddcf3b…</td><td>1</td></tr><tr><td>&quot;5deed99db44235ee8de14e21a431b4…</td><td>&quot;20a1b5b821806e87157587550af9d5…</td><td>1</td></tr><tr><td>&quot;4742655b1e39dd8f4ae75fa947d35b…</td><td>&quot;0a8f35ef46160ef897c27ba8c423d8…</td><td>1</td></tr><tr><td>&quot;3a01c7d4fbcd2d9293d813349bf3c7…</td><td>&quot;eb3496e5ea096b0366a2e552fd7ab4…</td><td>1</td></tr></tbody></table></div>"
      ],
      "text/plain": [
       "shape: (77_916, 3)\n",
       "┌─────────────────────────────────┬─────────────────────────────────┬─────┐\n",
       "│ review_id                       ┆ order_id                        ┆ len │\n",
       "│ ---                             ┆ ---                             ┆ --- │\n",
       "│ str                             ┆ str                             ┆ u32 │\n",
       "╞═════════════════════════════════╪═════════════════════════════════╪═════╡\n",
       "│ 65df5361954f24e35a37da0f5eff9f… ┆ ba57c0b9e68de2a41c388368fcf0db… ┆ 1   │\n",
       "│ de4e9ecdf4084e83c67821cbea388c… ┆ 2059a6cad3cfd50e2f7904f250eb85… ┆ 1   │\n",
       "│ cf3fcabff34b05cf4edb8e4c550056… ┆ f23bef5ff346873476747ab073a438… ┆ 1   │\n",
       "│ 679908e3991c84ed3c7fb0bd5bcac3… ┆ 85e7df94996cce9657127b63f379ac… ┆ 1   │\n",
       "│ b14e168def5a296c365fa88768ed51… ┆ 388815a1ed5c112e3588771ca6d8b2… ┆ 1   │\n",
       "│ …                               ┆ …                               ┆ …   │\n",
       "│ a83759f3cf587d14dc5d6be6d8c786… ┆ 2543c6a3c6b09c5f720768e3d6f464… ┆ 1   │\n",
       "│ a6d2829ee00cd3e7b03d9dd0c585ce… ┆ 191869a6145f8263366f4158ddcf3b… ┆ 1   │\n",
       "│ 5deed99db44235ee8de14e21a431b4… ┆ 20a1b5b821806e87157587550af9d5… ┆ 1   │\n",
       "│ 4742655b1e39dd8f4ae75fa947d35b… ┆ 0a8f35ef46160ef897c27ba8c423d8… ┆ 1   │\n",
       "│ 3a01c7d4fbcd2d9293d813349bf3c7… ┆ eb3496e5ea096b0366a2e552fd7ab4… ┆ 1   │\n",
       "└─────────────────────────────────┴─────────────────────────────────┴─────┘"
      ]
     },
     "execution_count": 63,
     "metadata": {},
     "output_type": "execute_result"
    }
   ],
   "source": [
    "df_reviews.group_by(\"review_id\", \"order_id\").len().sort(\"len\")"
   ]
  },
  {
   "cell_type": "markdown",
   "id": "71e5ecc7",
   "metadata": {},
   "source": [
    "> Review ID não parece ser único, o que é estranho já que review_id em conjunto com order_id é único, ou seja existem pedidos com o mesmo review_id"
   ]
  },
  {
   "cell_type": "code",
   "execution_count": 39,
   "id": "708358de",
   "metadata": {},
   "outputs": [
    {
     "data": {
      "text/html": [
       "<div><style>\n",
       ".dataframe > thead > tr,\n",
       ".dataframe > tbody > tr {\n",
       "  text-align: right;\n",
       "  white-space: pre-wrap;\n",
       "}\n",
       "</style>\n",
       "<small>shape: (5, 2)</small><table border=\"1\" class=\"dataframe\"><thead><tr><th>review_score</th><th>len</th></tr><tr><td>i64</td><td>u32</td></tr></thead><tbody><tr><td>1</td><td>9001</td></tr><tr><td>2</td><td>2468</td></tr><tr><td>3</td><td>6413</td></tr><tr><td>4</td><td>15080</td></tr><tr><td>5</td><td>44954</td></tr></tbody></table></div>"
      ],
      "text/plain": [
       "shape: (5, 2)\n",
       "┌──────────────┬───────┐\n",
       "│ review_score ┆ len   │\n",
       "│ ---          ┆ ---   │\n",
       "│ i64          ┆ u32   │\n",
       "╞══════════════╪═══════╡\n",
       "│ 1            ┆ 9001  │\n",
       "│ 2            ┆ 2468  │\n",
       "│ 3            ┆ 6413  │\n",
       "│ 4            ┆ 15080 │\n",
       "│ 5            ┆ 44954 │\n",
       "└──────────────┴───────┘"
      ]
     },
     "execution_count": 39,
     "metadata": {},
     "output_type": "execute_result"
    }
   ],
   "source": [
    "# distribuição de notas\n",
    "df_reviews.group_by(\"review_score\").len().sort(\"review_score\")"
   ]
  },
  {
   "cell_type": "markdown",
   "id": "38870624",
   "metadata": {},
   "source": [
    "> A distribuição dos scores é desbalanceada (como esperado)"
   ]
  },
  {
   "cell_type": "code",
   "execution_count": 40,
   "id": "53614add",
   "metadata": {},
   "outputs": [
    {
     "name": "stdout",
     "output_type": "stream",
     "text": [
      "Total grupos duplicados: 7\n"
     ]
    }
   ],
   "source": [
    "dedup_keys = [\n",
    "    \"order_id\",\n",
    "    \"review_score\",\n",
    "    \"review_comment_message\"\n",
    "]\n",
    "\n",
    "df_dupes = (\n",
    "    df_reviews\n",
    "    .group_by(dedup_keys)\n",
    "    .len()\n",
    "    .filter(\n",
    "        pl.col(\"len\") > 1, \n",
    "        pl.col(\"review_comment_message\").is_not_null()\n",
    "    )\n",
    ")\n",
    "print(f\"Total grupos duplicados: {df_dupes.height}\")\n"
   ]
  },
  {
   "cell_type": "markdown",
   "id": "83318746",
   "metadata": {},
   "source": [
    "> Existe um pequeno número de pedidos duplicados (order_id + score + review não nulo)"
   ]
  },
  {
   "cell_type": "markdown",
   "id": "666c6ad9",
   "metadata": {},
   "source": [
    "## Removendo pedidos duplicados do banco de dados\n",
    "Essa etapa só está sendo feita dado que fizemos a importação do dataset. Em um cenário real, onde o banco de dados está sanitizado, não é necessário fazer essa etapa.\n",
    "\n",
    "No caso do banco em produção estiver com duplicadas seria necessário fazer uma análise mais profunda para entender o que causou as duplicadas e adicionar essa validação na hora da ingestão dos dados para o modelo\n"
   ]
  },
  {
   "cell_type": "code",
   "execution_count": 41,
   "id": "9747f777",
   "metadata": {},
   "outputs": [],
   "source": [
    "from sqlalchemy import text\n",
    "\n",
    "dedup_sql = \"\"\"\n",
    "WITH to_rank AS (\n",
    "    SELECT\n",
    "        review_id,\n",
    "        ROW_NUMBER() OVER (\n",
    "            PARTITION BY order_id, review_score, review_comment_message\n",
    "            ORDER BY review_creation_date DESC\n",
    "        ) AS rn\n",
    "    FROM order_reviews\n",
    ")\n",
    "DELETE FROM order_reviews\n",
    "WHERE review_id IN (\n",
    "    SELECT review_id FROM to_rank WHERE rn > 1\n",
    ");\n",
    "\"\"\"\n",
    "\n",
    "with engine.begin() as conn:\n",
    "    result = conn.execute(text(dedup_sql))"
   ]
  },
  {
   "cell_type": "code",
   "execution_count": 42,
   "id": "0889df7a",
   "metadata": {
    "vscode": {
     "languageId": "sql"
    }
   },
   "outputs": [
    {
     "name": "stdout",
     "output_type": "stream",
     "text": [
      "Total grupos duplicados: 0\n"
     ]
    }
   ],
   "source": [
    "df_cleaned_reviews = pl.read_database(\"SELECT * FROM order_reviews\", engine)\n",
    "\n",
    "df_dupes = (\n",
    "    df_cleaned_reviews\n",
    "    .group_by(dedup_keys)\n",
    "    .len()\n",
    "    .filter(\n",
    "        pl.col(\"len\") > 1, \n",
    "        pl.col(\"review_comment_message\").is_not_null()\n",
    "    )\n",
    ")\n",
    "print(f\"Total grupos duplicados: {df_dupes.height}\")"
   ]
  },
  {
   "cell_type": "code",
   "execution_count": 48,
   "id": "edd696f2",
   "metadata": {
    "vscode": {
     "languageId": "sql"
    }
   },
   "outputs": [
    {
     "data": {
      "text/plain": [
       "(32207, 7)"
      ]
     },
     "execution_count": 48,
     "metadata": {},
     "output_type": "execute_result"
    }
   ],
   "source": [
    "df_cleaned_reviews.filter(\n",
    "    pl.col(\"review_comment_message\").is_not_null()\n",
    ").shape"
   ]
  },
  {
   "cell_type": "markdown",
   "id": "e28f7556",
   "metadata": {},
   "source": [
    "> Existem ao todo 32.207 reviews"
   ]
  },
  {
   "cell_type": "markdown",
   "id": "eab6b1db",
   "metadata": {},
   "source": [
    "## Verificando a relação de review e produtos"
   ]
  },
  {
   "cell_type": "code",
   "execution_count": 74,
   "id": "506fdad5",
   "metadata": {},
   "outputs": [],
   "source": [
    "review_product = \"\"\"\n",
    "        SELECT order_reviews.review_id,\n",
    "            order_reviews.order_id,\n",
    "            order_items.product_id,\n",
    "            order_reviews.review_score,\n",
    "            order_reviews.review_comment_message AS review_text\n",
    "        FROM order_reviews\n",
    "        JOIN order_items ON order_items.order_id = order_reviews.order_id\n",
    "        WHERE order_reviews.review_comment_message IS NOT NULL\n",
    "        AND order_reviews.review_comment_message != ''\n",
    "        \"\"\"\n",
    "\n",
    "df_review_product = pl.read_database(review_product, engine)"
   ]
  },
  {
   "cell_type": "markdown",
   "id": "e8e93cd6",
   "metadata": {},
   "source": [
    "Verificando a quantidade de produtos por pedido"
   ]
  },
  {
   "cell_type": "code",
   "execution_count": 76,
   "id": "60076a0e",
   "metadata": {},
   "outputs": [
    {
     "name": "stdout",
     "output_type": "stream",
     "text": [
      "shape: (7, 2)\n",
      "┌──────────────┬───────┐\n",
      "│ num_products ┆ len   │\n",
      "│ ---          ┆ ---   │\n",
      "│ u32          ┆ u32   │\n",
      "╞══════════════╪═══════╡\n",
      "│ 1            ┆ 30342 │\n",
      "│ 2            ┆ 1207  │\n",
      "│ 3            ┆ 135   │\n",
      "│ 4            ┆ 39    │\n",
      "│ 5            ┆ 2     │\n",
      "│ 6            ┆ 5     │\n",
      "│ 7            ┆ 2     │\n",
      "└──────────────┴───────┘\n",
      "Pedidos com 1 produto: 95.62%\n"
     ]
    }
   ],
   "source": [
    "products_per_order = df_review_product.group_by(\"order_id\").agg(\n",
    "    pl.n_unique(\"product_id\").alias(\"num_products\")\n",
    ")\n",
    "\n",
    "print(products_per_order.group_by(\"num_products\").len().sort(\"num_products\"))\n",
    "print(f\"Pedidos com 1 produto: {products_per_order.filter(pl.col('num_products') == 1).height/products_per_order.height:.2%}\")"
   ]
  },
  {
   "cell_type": "markdown",
   "id": "3fe6aa7d",
   "metadata": {},
   "source": [
    "> Existem pedidos com mais de 1 produto. Isso pode interferir no comentário, por isso vamos considerar apenas comentários de pedidos com apenas 1 produto (que representa +95% dos pedidos)"
   ]
  },
  {
   "cell_type": "code",
   "execution_count": 86,
   "id": "74e23d3b",
   "metadata": {},
   "outputs": [],
   "source": [
    "# Apenas pedidos que tenham 1 produto no pedido\n",
    "review_product = \"\"\"\n",
    "    SELECT order_reviews.review_id,\n",
    "        order_reviews.order_id,\n",
    "        order_items.product_id,\n",
    "        order_reviews.review_score,\n",
    "        order_reviews.review_comment_message AS review_text,\n",
    "        order_reviews.review_creation_date,\n",
    "        order_reviews.review_answer_timestamp\n",
    "        \n",
    "    FROM order_reviews\n",
    "    JOIN order_items ON order_items.order_id = order_reviews.order_id\n",
    "    WHERE order_reviews.review_comment_message IS NOT NULL\n",
    "      AND order_reviews.review_comment_message != ''\n",
    "      AND order_reviews.order_id IN (\n",
    "          SELECT order_id\n",
    "          FROM order_items\n",
    "          GROUP BY order_id\n",
    "          HAVING COUNT(DISTINCT product_id) = 1\n",
    "      )\n",
    "\"\"\"\n",
    "\n",
    "df_review_product = pl.read_database(review_product, engine)"
   ]
  },
  {
   "cell_type": "markdown",
   "id": "b8c93c53",
   "metadata": {},
   "source": [
    "Verificando se existem comentários duplicados para o mesmo produto no mesmo pedido"
   ]
  },
  {
   "cell_type": "code",
   "execution_count": 87,
   "id": "04bc88ff",
   "metadata": {},
   "outputs": [
    {
     "data": {
      "text/html": [
       "<div><style>\n",
       ".dataframe > thead > tr,\n",
       ".dataframe > tbody > tr {\n",
       "  text-align: right;\n",
       "  white-space: pre-wrap;\n",
       "}\n",
       "</style>\n",
       "<small>shape: (30_413, 3)</small><table border=\"1\" class=\"dataframe\"><thead><tr><th>doc_id</th><th>review_text</th><th>len</th></tr><tr><td>str</td><td>str</td><td>u32</td></tr></thead><tbody><tr><td>&quot;9bdc4d4c71aa1de4606060929dee88…</td><td>&quot;Comprei 14 unidades e recebi s…</td><td>14</td></tr><tr><td>&quot;3a213fcdfe7d98be74ea0dc05a8b31…</td><td>&quot;bom dia ainda não recebi toa a…</td><td>12</td></tr><tr><td>&quot;6c355e2913545fa6f72c40cbca5772…</td><td>&quot;Ao comprar 11 lixeiras, tive q…</td><td>11</td></tr><tr><td>&quot;a483ffe0ce133740ab12ebcba8a3cc…</td><td>&quot;Pessimo vendedor, foi entregue…</td><td>10</td></tr><tr><td>&quot;c52c7fbe316b5b9d549e8a25206b8a…</td><td>&quot;Zero&quot;</td><td>9</td></tr><tr><td>&hellip;</td><td>&hellip;</td><td>&hellip;</td></tr><tr><td>&quot;a9ad04772c6cf0d63efb9444ea80bb…</td><td>&quot;A caixa do relógio que comprei…</td><td>1</td></tr><tr><td>&quot;8cb4af66a9f35f0578f7fe7f325bb0…</td><td>&quot;O conector USB que entregaram …</td><td>1</td></tr><tr><td>&quot;9f7db45b6f8cc96acdf9c10d8a56bf…</td><td>&quot;Quero o meu produto onde está?&quot;</td><td>1</td></tr><tr><td>&quot;61af52f7cc6266b9aead2cc464aa48…</td><td>&quot;Respondi que sim para &quot;recebi …</td><td>1</td></tr><tr><td>&quot;3ffafbfb2ed55aa2246ffb6886b28d…</td><td>&quot;Não entregaram o produto compr…</td><td>1</td></tr></tbody></table></div>"
      ],
      "text/plain": [
       "shape: (30_413, 3)\n",
       "┌─────────────────────────────────┬─────────────────────────────────┬─────┐\n",
       "│ doc_id                          ┆ review_text                     ┆ len │\n",
       "│ ---                             ┆ ---                             ┆ --- │\n",
       "│ str                             ┆ str                             ┆ u32 │\n",
       "╞═════════════════════════════════╪═════════════════════════════════╪═════╡\n",
       "│ 9bdc4d4c71aa1de4606060929dee88… ┆ Comprei 14 unidades e recebi s… ┆ 14  │\n",
       "│ 3a213fcdfe7d98be74ea0dc05a8b31… ┆ bom dia ainda não recebi toa a… ┆ 12  │\n",
       "│ 6c355e2913545fa6f72c40cbca5772… ┆ Ao comprar 11 lixeiras, tive q… ┆ 11  │\n",
       "│ a483ffe0ce133740ab12ebcba8a3cc… ┆ Pessimo vendedor, foi entregue… ┆ 10  │\n",
       "│ c52c7fbe316b5b9d549e8a25206b8a… ┆ Zero                            ┆ 9   │\n",
       "│ …                               ┆ …                               ┆ …   │\n",
       "│ a9ad04772c6cf0d63efb9444ea80bb… ┆ A caixa do relógio que comprei… ┆ 1   │\n",
       "│ 8cb4af66a9f35f0578f7fe7f325bb0… ┆ O conector USB que entregaram … ┆ 1   │\n",
       "│ 9f7db45b6f8cc96acdf9c10d8a56bf… ┆ Quero o meu produto onde está?  ┆ 1   │\n",
       "│ 61af52f7cc6266b9aead2cc464aa48… ┆ Respondi que sim para \"recebi … ┆ 1   │\n",
       "│ 3ffafbfb2ed55aa2246ffb6886b28d… ┆ Não entregaram o produto compr… ┆ 1   │\n",
       "└─────────────────────────────────┴─────────────────────────────────┴─────┘"
      ]
     },
     "execution_count": 87,
     "metadata": {},
     "output_type": "execute_result"
    }
   ],
   "source": [
    "df_review_product = df_review_product.with_columns(\n",
    "    pl.struct([\"order_id\", \"product_id\"])\n",
    "    .map_elements(\n",
    "        lambda s: f\"{s['order_id']}_{s['product_id']}\", return_dtype=pl.Utf8\n",
    "    )\n",
    "    .alias(\"doc_id\")\n",
    ")\n",
    "\n",
    "df_review_product.group_by(\n",
    "    \"doc_id\", \"review_text\"\n",
    ").len().sort(\"len\", descending=True)"
   ]
  },
  {
   "cell_type": "markdown",
   "id": "fad22c21",
   "metadata": {},
   "source": [
    "> Existem casos onde o usuário comprou o mesmo produto mais de uma vez e isso causa a duplicação do comentário. Vamos considerar apenas o primeiro comentário de cada produto por pedido"
   ]
  },
  {
   "cell_type": "markdown",
   "id": "1eb11ac0",
   "metadata": {},
   "source": [
    "Total final de reviews considerados para o modelo"
   ]
  },
  {
   "cell_type": "code",
   "execution_count": 89,
   "id": "0dc9153c",
   "metadata": {},
   "outputs": [
    {
     "data": {
      "text/plain": [
       "(30342, 8)"
      ]
     },
     "execution_count": 89,
     "metadata": {},
     "output_type": "execute_result"
    }
   ],
   "source": [
    "df_review_product.unique(subset=[\"doc_id\"]).shape\n"
   ]
  },
  {
   "cell_type": "markdown",
   "id": "4d4d85dc",
   "metadata": {},
   "source": [
    "Reviews por produto"
   ]
  },
  {
   "cell_type": "code",
   "execution_count": 95,
   "id": "4b738147",
   "metadata": {},
   "outputs": [
    {
     "data": {
      "text/html": [
       "<div><style>\n",
       ".dataframe > thead > tr,\n",
       ".dataframe > tbody > tr {\n",
       "  text-align: right;\n",
       "  white-space: pre-wrap;\n",
       "}\n",
       "</style>\n",
       "<small>shape: (9, 3)</small><table border=\"1\" class=\"dataframe\"><thead><tr><th>statistic</th><th>product_id</th><th>len</th></tr><tr><td>str</td><td>str</td><td>f64</td></tr></thead><tbody><tr><td>&quot;count&quot;</td><td>&quot;14755&quot;</td><td>14755.0</td></tr><tr><td>&quot;null_count&quot;</td><td>&quot;0&quot;</td><td>0.0</td></tr><tr><td>&quot;mean&quot;</td><td>null</td><td>2.30837</td></tr><tr><td>&quot;std&quot;</td><td>null</td><td>4.944458</td></tr><tr><td>&quot;min&quot;</td><td>&quot;000b8f95fcb9e0096488278317764d…</td><td>1.0</td></tr><tr><td>&quot;25%&quot;</td><td>null</td><td>1.0</td></tr><tr><td>&quot;50%&quot;</td><td>null</td><td>1.0</td></tr><tr><td>&quot;75%&quot;</td><td>null</td><td>2.0</td></tr><tr><td>&quot;max&quot;</td><td>&quot;fffdb2d0ec8d6a61f0a0a0db3f25b4…</td><td>155.0</td></tr></tbody></table></div>"
      ],
      "text/plain": [
       "shape: (9, 3)\n",
       "┌────────────┬─────────────────────────────────┬──────────┐\n",
       "│ statistic  ┆ product_id                      ┆ len      │\n",
       "│ ---        ┆ ---                             ┆ ---      │\n",
       "│ str        ┆ str                             ┆ f64      │\n",
       "╞════════════╪═════════════════════════════════╪══════════╡\n",
       "│ count      ┆ 14755                           ┆ 14755.0  │\n",
       "│ null_count ┆ 0                               ┆ 0.0      │\n",
       "│ mean       ┆ null                            ┆ 2.30837  │\n",
       "│ std        ┆ null                            ┆ 4.944458 │\n",
       "│ min        ┆ 000b8f95fcb9e0096488278317764d… ┆ 1.0      │\n",
       "│ 25%        ┆ null                            ┆ 1.0      │\n",
       "│ 50%        ┆ null                            ┆ 1.0      │\n",
       "│ 75%        ┆ null                            ┆ 2.0      │\n",
       "│ max        ┆ fffdb2d0ec8d6a61f0a0a0db3f25b4… ┆ 155.0    │\n",
       "└────────────┴─────────────────────────────────┴──────────┘"
      ]
     },
     "execution_count": 95,
     "metadata": {},
     "output_type": "execute_result"
    }
   ],
   "source": [
    "df_review_product.group_by(\"product_id\").len().describe()"
   ]
  },
  {
   "cell_type": "markdown",
   "id": "47758369",
   "metadata": {},
   "source": [
    "> Há uma distribuição muito assimétrica de quantidade de reviews por produto o que fará com que alguns produtos tenham poucas informações a serem consideradas"
   ]
  },
  {
   "cell_type": "code",
   "execution_count": null,
   "id": "b5fd9cd1",
   "metadata": {},
   "outputs": [],
   "source": []
  }
 ],
 "metadata": {
  "kernelspec": {
   "display_name": "dp6",
   "language": "python",
   "name": "python3"
  },
  "language_info": {
   "codemirror_mode": {
    "name": "ipython",
    "version": 3
   },
   "file_extension": ".py",
   "mimetype": "text/x-python",
   "name": "python",
   "nbconvert_exporter": "python",
   "pygments_lexer": "ipython3",
   "version": "3.10.16"
  }
 },
 "nbformat": 4,
 "nbformat_minor": 5
}
