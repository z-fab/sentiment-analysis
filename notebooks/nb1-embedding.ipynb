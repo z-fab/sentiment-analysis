{
 "cells": [
  {
   "cell_type": "markdown",
   "id": "8dbda1fe",
   "metadata": {},
   "source": [
    "# Avaliando os Embeddings"
   ]
  },
  {
   "cell_type": "code",
   "execution_count": 61,
   "id": "38d31c45",
   "metadata": {},
   "outputs": [],
   "source": [
    "import chromadb\n",
    "from chromadb.config import Settings\n",
    "\n",
    "client = chromadb.HttpClient(\n",
    "    host=\"localhost\", port=\"8000\", settings=Settings(allow_reset=True)\n",
    ")\n",
    "collection = client.get_or_create_collection(\"olist_reviews\")"
   ]
  },
  {
   "cell_type": "markdown",
   "id": "a8b00002",
   "metadata": {},
   "source": [
    "Verificando a quantidade de registros"
   ]
  },
  {
   "cell_type": "code",
   "execution_count": 62,
   "id": "17e02054",
   "metadata": {},
   "outputs": [
    {
     "name": "stdout",
     "output_type": "stream",
     "text": [
      "Quantidade de registros na coleção: 30342\n"
     ]
    }
   ],
   "source": [
    "count = collection.count()\n",
    "print(f\"Quantidade de registros na coleção: {count}\")"
   ]
  },
  {
   "cell_type": "markdown",
   "id": "39b9c947",
   "metadata": {},
   "source": [
    "Pegando alguns exemplos aleatórios"
   ]
  },
  {
   "cell_type": "code",
   "execution_count": 63,
   "id": "4b7431ed",
   "metadata": {},
   "outputs": [
    {
     "data": {
      "text/plain": [
       "{'ids': ['eedfdd1e4ef97bae3bc2a49f06e3016b_856b55eef75569bf5ec655e857bf84f7'],\n",
       " 'embeddings': array([[ 0.07591171,  0.03293879,  0.0160067 , -0.01172744,  0.00581043,\n",
       "          0.10624187,  0.3572781 , -0.03047876, -0.03980613, -0.16909057,\n",
       "          0.1006026 , -0.02994548, -0.05006808,  0.18062666, -0.19405581,\n",
       "          0.10068502,  0.00998913, -0.09508895, -0.072451  , -0.15743494,\n",
       "         -0.21218112,  0.15791976, -0.1488847 ,  0.22834216, -0.23098463,\n",
       "          0.02463485, -0.08491322,  0.03997763,  0.04840743, -0.2662214 ,\n",
       "          0.08611382, -0.2750817 ,  0.06547759,  0.15898623, -0.01722305,\n",
       "          0.04781552,  0.06412971, -0.00578718,  0.03604148, -0.0416218 ,\n",
       "         -0.01665977, -0.00213949,  0.09425475, -0.05368577,  0.20396858,\n",
       "          0.05234119,  0.18114004,  0.16142656,  0.38424173,  0.24229354,\n",
       "         -0.13938582, -0.31167495, -0.1023287 ,  0.13089886, -0.01303229,\n",
       "          0.1923083 , -0.03303931,  0.0107516 ,  0.05919843,  0.29067284,\n",
       "          0.19403616, -0.18797818, -0.31948674,  0.07176755, -0.45119202,\n",
       "         -0.34437597, -0.04298766,  0.08732875, -0.48188943,  0.05447542,\n",
       "          0.04586909, -0.0284963 ,  0.00685632,  0.22127277,  0.15431878,\n",
       "         -0.08357189,  0.23166494, -0.24403301,  0.02251937,  0.10874265,\n",
       "         -0.1115729 , -0.16624573,  0.01475239, -0.11025371,  0.04831628,\n",
       "          0.00131402,  0.07929064,  0.11082654,  0.17521529, -0.23329644,\n",
       "          0.16865574, -0.17053744, -0.01984858, -0.0429313 ,  0.10224939,\n",
       "         -0.01822546,  0.01098539, -0.02150387, -0.18940228,  0.58571005,\n",
       "         -0.13314223, -0.06291354,  0.17587519, -0.2620921 , -0.05768792,\n",
       "         -0.09629047, -0.11065117,  0.3539128 , -0.01025366, -0.1633639 ,\n",
       "         -0.27762827, -0.09795637, -0.10503714,  0.01844417, -0.18869439,\n",
       "         -0.04784844, -0.26053548, -0.09842107,  0.16801083, -0.07783231,\n",
       "         -0.09382847,  0.0866416 ,  0.01385834,  0.10273473, -0.04351364,\n",
       "         -0.47097608,  0.15320837,  0.18098618, -0.06285524,  0.08053782,\n",
       "          0.15127385,  0.08082821, -0.3112725 ,  0.00307124, -0.13562824,\n",
       "          0.13014583, -0.1088814 , -0.01658197,  0.19855188, -0.1196    ,\n",
       "         -0.35934743,  0.33339715,  0.11355314,  0.26037294,  0.02118319,\n",
       "         -0.15790835, -0.05896831, -0.0962501 ,  0.08054529,  0.04615267,\n",
       "         -0.16312903, -0.21799499,  0.22384092, -0.05473728,  0.03934615,\n",
       "          0.09400358,  0.18814416,  0.05319204,  0.14727178, -0.13142565,\n",
       "          0.04331423,  0.12455674, -0.08584522, -0.12132926, -0.18113756,\n",
       "          0.12166104,  0.10304075,  0.1092114 , -0.19332895,  0.11398574,\n",
       "          0.16310963,  0.05002718, -0.1854798 ,  0.28856924,  0.09028356,\n",
       "          0.00081142,  0.01567401,  0.15961522,  0.13206774, -0.10056374,\n",
       "         -0.13797411,  0.30165604, -0.12863003,  0.19615375, -0.16858998,\n",
       "          0.10280278, -0.08175085, -0.09261365,  0.17223145, -0.07470411,\n",
       "          0.20630072, -0.10899504, -0.21607961,  0.05042551,  0.06253639,\n",
       "          0.01310777,  0.12578367,  0.4012509 ,  0.20481303, -0.01156946,\n",
       "         -0.10632328, -0.18103   ,  0.0597267 , -0.24038178,  0.365519  ,\n",
       "          0.19833717,  0.2748041 ,  0.07162066, -0.14462566,  0.06271027,\n",
       "         -0.00371735,  0.19220826, -0.02433581,  0.12990206, -0.15965104,\n",
       "          0.02556733,  0.12100765,  0.02582615,  0.05210329, -0.07311122,\n",
       "          0.16552028, -0.06604248, -0.24953826, -0.2101869 ,  0.10409753,\n",
       "         -0.29936624,  0.15960349,  0.20909011, -0.09087976, -0.05943118,\n",
       "         -0.10877122, -0.09788159,  0.08045992, -0.06025307, -0.11857298,\n",
       "          0.01852355,  0.0986539 ,  0.18012251, -0.01445246, -0.02462055,\n",
       "          0.0437031 , -0.10277634,  0.15329295, -0.08899671,  0.0103079 ,\n",
       "          0.17338131,  0.19435245,  0.16638498, -0.0439837 ,  0.14274211,\n",
       "          0.04455347,  0.04885057, -0.00811186,  0.12941867, -0.35922828,\n",
       "         -0.04059409, -0.25541615, -0.02269277, -0.03720943,  0.09286358,\n",
       "          0.08713956, -0.06604567, -0.14314146, -0.14513108, -0.0205908 ,\n",
       "         -0.03204399, -0.24563573,  0.16607454,  0.06014104,  0.02390958,\n",
       "          0.0230301 ,  0.08154877,  0.13859962, -0.02972478, -0.25980005,\n",
       "         -0.0169195 ,  0.06469059, -0.18512021, -0.06443684,  0.26078838,\n",
       "         -0.03882514,  0.09262185,  0.04467272,  0.03092807, -0.15893638,\n",
       "         -0.07896408, -0.00284998,  0.28372794,  0.07291095,  0.05247526,\n",
       "          0.17017135,  0.1872426 , -0.23211795,  0.07624735, -0.31272352,\n",
       "         -0.3170847 , -0.2260513 , -0.06462988, -0.15738776,  0.21199208,\n",
       "          0.1929502 ,  0.11835376,  0.05264864, -0.00921401,  0.07041875,\n",
       "          0.00314412,  0.05096175, -0.0280448 ,  0.11104132, -0.05194601,\n",
       "         -0.07145324,  0.28389388, -0.08416335, -0.05608739, -0.00320368,\n",
       "          0.12643892, -0.3266642 , -0.20212352,  0.0517383 , -0.19984286,\n",
       "         -0.172198  , -0.14309682,  0.01210846,  0.07530164,  0.210893  ,\n",
       "         -0.10680248,  0.04364216,  0.05277872,  0.09256002, -0.06092594,\n",
       "         -0.0310245 ,  0.0099348 ,  0.03334316, -0.20376503,  0.30264565,\n",
       "          0.07697671, -0.12655655,  0.0800525 , -0.13902941,  0.11828147,\n",
       "          0.04457058,  0.01163739,  0.4758724 , -0.27060616, -0.09377231,\n",
       "          0.09060453, -0.04639542,  0.00723157,  0.01698639,  0.23925813,\n",
       "         -0.02245943,  0.01444684, -0.33455926, -0.07439149,  0.04893281,\n",
       "         -0.04999275,  0.02685594, -0.1215601 ,  0.10831994, -0.1943308 ,\n",
       "          0.04856251, -0.14062631,  0.00615802, -0.03977926, -0.0792852 ,\n",
       "         -0.00347736,  0.41537988, -0.0061229 , -0.1417253 ,  0.04733726,\n",
       "         -0.3216049 , -0.12505926,  0.05282001, -0.10331434, -0.04424709,\n",
       "         -0.0048379 , -0.04296697, -0.22057846, -0.04838838,  0.2403004 ,\n",
       "          0.1407296 , -0.12994984, -0.02227008,  0.03545777]]),\n",
       " 'metadatas': [{'product_id': '856b55eef75569bf5ec655e857bf84f7',\n",
       "   'sentiment_label': 'positivo',\n",
       "   'sentiment_proba': '{\"negative\": 4.0957678720587865e-05, \"neutral\": 0.0002147480408893898, \"positive\": 0.9997442364692688}',\n",
       "   'review_score': 5,\n",
       "   'order_id': 'eedfdd1e4ef97bae3bc2a49f06e3016b'}],\n",
       " 'documents': ['Excelencia. Sempre compro aqui'],\n",
       " 'data': None,\n",
       " 'uris': None,\n",
       " 'included': ['embeddings', 'documents', 'metadatas']}"
      ]
     },
     "execution_count": 63,
     "metadata": {},
     "output_type": "execute_result"
    }
   ],
   "source": [
    "import random\n",
    "\n",
    "all_ids = collection.get()[\"ids\"]\n",
    "random_ids = random.sample(all_ids, 1)\n",
    "\n",
    "# Buscar os registros correspondentes\n",
    "random_records = collection.get(ids=random_ids, include=[\"embeddings\", \"documents\", \"metadatas\"])\n",
    "random_records"
   ]
  },
  {
   "cell_type": "markdown",
   "id": "31aa9bc2",
   "metadata": {},
   "source": [
    "## Review Destaques (top reviews)\n",
    "\n",
    "Para elencar os reviews em destaque vamos utilizar a busca por similaridade com um embedding médio dos reviews. Isso fará com que os reviews mais próximos do \"centro\" dos agrupamentos sejam selecionados.\n"
   ]
  },
  {
   "cell_type": "markdown",
   "id": "2b26647e",
   "metadata": {},
   "source": [
    "Vamos calcular o embedding médio para o produto com id `a62e25e09e05e6faf31d90c6ec1aa3d1`"
   ]
  },
  {
   "cell_type": "code",
   "execution_count": 64,
   "id": "ebaedf47",
   "metadata": {},
   "outputs": [
    {
     "name": "stdout",
     "output_type": "stream",
     "text": [
      "Total de embeddings: 57\n",
      "Exemplos de Reviews:\n",
      "Review 1: Continue assim.o que tiver no site mantenha sempre - Sentimento: positivo\n",
      "Review 2: So recebemos um relogio pelo correio\n",
      "\n",
      "att - Sentimento: neutro\n",
      "Review 3: Recomendo para todos, não tive problema nenhum, mercadoria e prazo ótimos. - Sentimento: positivo\n",
      "Review 4: Sem problemas na execução do pedido, satisfação. - Sentimento: positivo\n",
      "Review 5: OTIMO PRODUTO TUDO DENTRO DO ESPERADO - Sentimento: positivo\n",
      "Review 6: Os relógios eram para serem iguais, vieram de marca e tamanhos diferentes - Sentimento: neutro\n",
      "Review 7: Compro e recomendo - Sentimento: positivo\n",
      "Review 8: produto chegou no prazo - Sentimento: positivo\n",
      "Review 9: Amei o produto, chegou bem antes do prazo de entrega. - Sentimento: positivo\n",
      "Review 10: bom - Sentimento: positivo\n",
      "Review 11: Chegou muito rapido, excelente produto - Sentimento: positivo\n"
     ]
    }
   ],
   "source": [
    "product_id = \"a62e25e09e05e6faf31d90c6ec1aa3d1\"\n",
    "results = collection.get(\n",
    "    where={\"product_id\": product_id},\n",
    "    include=[\"embeddings\", \"metadatas\", \"documents\"]\n",
    ")\n",
    "\n",
    "embeddings = results[\"embeddings\"]\n",
    "print(f\"Total de embeddings: {len(embeddings)}\")\n",
    "print(\"Exemplos de Reviews:\")\n",
    "for i, (doc, metadata) in enumerate(zip(results[\"documents\"], results[\"metadatas\"])):\n",
    "    print(f\"Review {i + 1}: {doc} - Sentimento: {metadata['sentiment_label']}\")\n",
    "    if i >= 10:  # Limitar a exibição a 5 reviews\n",
    "        break"
   ]
  },
  {
   "cell_type": "code",
   "execution_count": 65,
   "id": "aed83695",
   "metadata": {},
   "outputs": [
    {
     "name": "stdout",
     "output_type": "stream",
     "text": [
      "Dimensões do embedding médio: (384,)\n"
     ]
    }
   ],
   "source": [
    "import numpy as np\n",
    "\n",
    "mean_embeddings = np.mean(embeddings, axis=0)\n",
    "print(f\"Dimensões do embedding médio: {mean_embeddings.shape}\")"
   ]
  },
  {
   "cell_type": "code",
   "execution_count": 73,
   "id": "611d6cce",
   "metadata": {},
   "outputs": [
    {
     "name": "stdout",
     "output_type": "stream",
     "text": [
      "Review 1: entregaram antes da data, o produto é bom. \n",
      "obrigada - Sentimento: positivo\n",
      "Review 2: Foi entregue no prazo, veio tudo correto, ganhei um mimos, amei meus produtos. Obrigada. Super recomendo.obg - Sentimento: positivo\n",
      "Review 3: entregou antes do prazo.super recomendo - Sentimento: positivo\n",
      "Review 4: chegou antes do prazo. Bom serviço - Sentimento: positivo\n",
      "Review 5: Produto cfe o anunciado! Entregue no prazo... - Sentimento: positivo\n"
     ]
    }
   ],
   "source": [
    "results = collection.query(\n",
    "    query_embeddings=[mean_embeddings],\n",
    "    n_results=5,\n",
    "    include=[\"metadatas\", \"documents\"]\n",
    ")\n",
    "\n",
    "for i, (doc, metadata) in enumerate(zip(results[\"documents\"][0], results[\"metadatas\"][0])):\n",
    "    print(f\"Review {i + 1}: {doc} - Sentimento: {metadata['sentiment_label']}\")"
   ]
  },
  {
   "cell_type": "markdown",
   "id": "d4c26212",
   "metadata": {},
   "source": [
    "> Como podemos ver os \"Top Reviews\" relacionados a esse produto são relacionados a entrega e todos classificados como positivos"
   ]
  },
  {
   "cell_type": "code",
   "execution_count": 72,
   "id": "37dc895a",
   "metadata": {},
   "outputs": [
    {
     "name": "stdout",
     "output_type": "stream",
     "text": [
      "Positivo: 68.42%\n",
      "Neutro: 10.53%\n",
      "Negativo: 21.05%\n"
     ]
    }
   ],
   "source": [
    "from collections import Counter\n",
    "\n",
    "reviews = collection.get(\n",
    "    where={\"product_id\": product_id},\n",
    "    include=[\"metadatas\"]\n",
    ")\n",
    "\n",
    "sentiments = [meta[\"sentiment_label\"] for meta in reviews[\"metadatas\"]]\n",
    "counts = Counter(sentiments)\n",
    "total = sum(counts.values())\n",
    "\n",
    "for label in [\"positivo\", \"neutro\", \"negativo\"]:\n",
    "    percent = (counts.get(label, 0) / total) * 100\n",
    "    print(f\"{label.capitalize()}: {percent:.2f}%\")\n"
   ]
  },
  {
   "cell_type": "markdown",
   "id": "65a37a42",
   "metadata": {},
   "source": [
    "> Mais da metade dos reviews desse produto exemplo que pegamos são positivos"
   ]
  },
  {
   "cell_type": "code",
   "execution_count": null,
   "id": "8dd8745a",
   "metadata": {},
   "outputs": [],
   "source": []
  }
 ],
 "metadata": {
  "kernelspec": {
   "display_name": "dp6",
   "language": "python",
   "name": "python3"
  },
  "language_info": {
   "codemirror_mode": {
    "name": "ipython",
    "version": 3
   },
   "file_extension": ".py",
   "mimetype": "text/x-python",
   "name": "python",
   "nbconvert_exporter": "python",
   "pygments_lexer": "ipython3",
   "version": "3.10.16"
  }
 },
 "nbformat": 4,
 "nbformat_minor": 5
}
