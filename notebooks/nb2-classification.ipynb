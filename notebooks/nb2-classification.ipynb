{
 "cells": [
  {
   "cell_type": "markdown",
   "id": "23953484",
   "metadata": {},
   "source": [
    "# Classificação dos Reviews\n",
    "\n",
    "Decidi treinar um classificador porque, uma vez ajustado, ele prediz milhares de reviews a custo quase zero e em milissegundos, evitando as chamadas caras e lentas a um LLM para cada exemplo; além disso, apliquei uma estratégia híbrida: começar com rótulos fracos derivados do score para cobrir rapidamente todo o conjunto e depois refinar o modelo com um subconjunto de rótulos “gold” gerados pelo LLM, aproveitando sua alta precisão apenas onde faz diferença"
   ]
  },
  {
   "cell_type": "code",
   "execution_count": null,
   "id": "5676af93",
   "metadata": {},
   "outputs": [],
   "source": [
    "import sqlalchemy as sa\n",
    "import polars as pl\n",
    "from pathlib import Path\n",
    "from openai import OpenAI\n",
    "import time\n",
    "import os\n",
    "from dotenv import load_dotenv\n",
    "\n",
    "from sentence_transformers import SentenceTransformer\n",
    "from sklearn.model_selection import cross_val_predict, StratifiedKFold, cross_val_score\n",
    "from sklearn.metrics import classification_report, confusion_matrix\n",
    "from xgboost import XGBClassifier\n",
    "import numpy as np\n",
    "from sklearn.preprocessing import LabelEncoder\n",
    "\n",
    "load_dotenv(dotenv_path=Path().resolve().parent / \".env\");"
   ]
  },
  {
   "cell_type": "markdown",
   "id": "8c49a4cd",
   "metadata": {},
   "source": [
    "Carregando e tratando dataset"
   ]
  },
  {
   "cell_type": "code",
   "execution_count": 35,
   "id": "40a8047d",
   "metadata": {},
   "outputs": [],
   "source": [
    "DB_PATH = Path().resolve().parent / \"data\" / \"olist.db\"\n",
    "engine = sa.create_engine(f\"sqlite:///{DB_PATH}\")\n",
    "\n",
    "review_product = \"\"\"\n",
    "    SELECT order_reviews.review_id,\n",
    "        order_reviews.order_id,\n",
    "        order_items.product_id,\n",
    "        order_reviews.review_score,\n",
    "        order_reviews.review_comment_message AS review_text,\n",
    "        order_reviews.review_creation_date,\n",
    "        order_reviews.review_answer_timestamp\n",
    "    FROM order_reviews\n",
    "    JOIN order_items ON order_items.order_id = order_reviews.order_id\n",
    "    WHERE order_reviews.review_comment_message IS NOT NULL\n",
    "      AND order_reviews.review_comment_message != ''\n",
    "      AND order_reviews.order_id IN (\n",
    "          SELECT order_id\n",
    "          FROM order_items\n",
    "          GROUP BY order_id\n",
    "          HAVING COUNT(DISTINCT product_id) = 1\n",
    "      )\n",
    "\"\"\"\n",
    "\n",
    "df_review_product = pl.read_database(review_product, engine)"
   ]
  },
  {
   "cell_type": "code",
   "execution_count": 36,
   "id": "9d7c94b8",
   "metadata": {},
   "outputs": [],
   "source": [
    "df_review_product = df_review_product.with_columns(\n",
    "    pl.struct([\"order_id\", \"product_id\"])\n",
    "    .map_elements(lambda s: f\"{s['order_id']}_{s['product_id']}\", return_dtype=pl.Utf8)\n",
    "    .alias(\"doc_id\")\n",
    ").unique(subset=[\"doc_id\"])"
   ]
  },
  {
   "cell_type": "markdown",
   "id": "72fb0ea5",
   "metadata": {},
   "source": [
    "## Gerando datasets de Holdout e Treino"
   ]
  },
  {
   "cell_type": "code",
   "execution_count": 55,
   "id": "a195f118",
   "metadata": {},
   "outputs": [],
   "source": [
    "import polars as pl\n",
    "from sklearn.model_selection import train_test_split\n",
    "\n",
    "train, holdout = train_test_split(\n",
    "    df_review_product,\n",
    "    test_size=200,\n",
    "    stratify=df_review_product[\"review_score\"],\n",
    "    random_state=42,\n",
    ")\n"
   ]
  },
  {
   "cell_type": "markdown",
   "id": "547f1a57",
   "metadata": {},
   "source": [
    "Confirmando a distribuição dos score reviews nos datasets"
   ]
  },
  {
   "cell_type": "code",
   "execution_count": 56,
   "id": "c168107a",
   "metadata": {},
   "outputs": [
    {
     "data": {
      "text/html": [
       "<div><style>\n",
       ".dataframe > thead > tr,\n",
       ".dataframe > tbody > tr {\n",
       "  text-align: right;\n",
       "  white-space: pre-wrap;\n",
       "}\n",
       "</style>\n",
       "<small>shape: (5, 3)</small><table border=\"1\" class=\"dataframe\"><thead><tr><th>review_score</th><th>len</th><th>proportion</th></tr><tr><td>i64</td><td>u32</td><td>f64</td></tr></thead><tbody><tr><td>5</td><td>103</td><td>51.5</td></tr><tr><td>1</td><td>40</td><td>20.0</td></tr><tr><td>4</td><td>30</td><td>15.0</td></tr><tr><td>3</td><td>17</td><td>8.5</td></tr><tr><td>2</td><td>10</td><td>5.0</td></tr></tbody></table></div>"
      ],
      "text/plain": [
       "shape: (5, 3)\n",
       "┌──────────────┬─────┬────────────┐\n",
       "│ review_score ┆ len ┆ proportion │\n",
       "│ ---          ┆ --- ┆ ---        │\n",
       "│ i64          ┆ u32 ┆ f64        │\n",
       "╞══════════════╪═════╪════════════╡\n",
       "│ 5            ┆ 103 ┆ 51.5       │\n",
       "│ 1            ┆ 40  ┆ 20.0       │\n",
       "│ 4            ┆ 30  ┆ 15.0       │\n",
       "│ 3            ┆ 17  ┆ 8.5        │\n",
       "│ 2            ┆ 10  ┆ 5.0        │\n",
       "└──────────────┴─────┴────────────┘"
      ]
     },
     "execution_count": 56,
     "metadata": {},
     "output_type": "execute_result"
    }
   ],
   "source": [
    "(\n",
    "    holdout.group_by(\"review_score\")\n",
    "    .len()\n",
    "    .with_columns(((pl.col(\"len\") / holdout.height) * 100).round(1).alias(\"proportion\"))\n",
    "    .sort(\"proportion\", descending=True)\n",
    ")"
   ]
  },
  {
   "cell_type": "code",
   "execution_count": 57,
   "id": "55938294",
   "metadata": {},
   "outputs": [
    {
     "data": {
      "text/html": [
       "<div><style>\n",
       ".dataframe > thead > tr,\n",
       ".dataframe > tbody > tr {\n",
       "  text-align: right;\n",
       "  white-space: pre-wrap;\n",
       "}\n",
       "</style>\n",
       "<small>shape: (5, 3)</small><table border=\"1\" class=\"dataframe\"><thead><tr><th>review_score</th><th>len</th><th>proportion</th></tr><tr><td>i64</td><td>u32</td><td>f64</td></tr></thead><tbody><tr><td>5</td><td>15536</td><td>51.5</td></tr><tr><td>1</td><td>5990</td><td>19.9</td></tr><tr><td>4</td><td>4537</td><td>15.1</td></tr><tr><td>3</td><td>2590</td><td>8.6</td></tr><tr><td>2</td><td>1489</td><td>4.9</td></tr></tbody></table></div>"
      ],
      "text/plain": [
       "shape: (5, 3)\n",
       "┌──────────────┬───────┬────────────┐\n",
       "│ review_score ┆ len   ┆ proportion │\n",
       "│ ---          ┆ ---   ┆ ---        │\n",
       "│ i64          ┆ u32   ┆ f64        │\n",
       "╞══════════════╪═══════╪════════════╡\n",
       "│ 5            ┆ 15536 ┆ 51.5       │\n",
       "│ 1            ┆ 5990  ┆ 19.9       │\n",
       "│ 4            ┆ 4537  ┆ 15.1       │\n",
       "│ 3            ┆ 2590  ┆ 8.6        │\n",
       "│ 2            ┆ 1489  ┆ 4.9        │\n",
       "└──────────────┴───────┴────────────┘"
      ]
     },
     "execution_count": 57,
     "metadata": {},
     "output_type": "execute_result"
    }
   ],
   "source": [
    "(\n",
    "    train.group_by(\"review_score\")\n",
    "    .len()\n",
    "    .with_columns(((pl.col(\"len\") / train.height) * 100).round(1).alias(\"proportion\"))\n",
    "    .sort(\"proportion\", descending=True)\n",
    ")\n"
   ]
  },
  {
   "cell_type": "markdown",
   "id": "41b9cfa3",
   "metadata": {},
   "source": [
    "Criando os Weak Label para treianr o modelo inicial"
   ]
  },
  {
   "cell_type": "code",
   "execution_count": 59,
   "id": "6135cfcb",
   "metadata": {},
   "outputs": [],
   "source": [
    "train = train.with_columns(\n",
    "    pl.when(pl.col(\"review_score\").is_in([1, 2]))\n",
    "    .then(pl.lit(\"negativo\"))\n",
    "    .when(pl.col(\"review_score\") == 3)\n",
    "    .then(pl.lit(\"neutro\"))\n",
    "    .when(pl.col(\"review_score\").is_in([4, 5]))\n",
    "    .then(pl.lit(\"positivo\"))\n",
    "    .otherwise(None)\n",
    "    .alias(\"sentiment\")\n",
    ")"
   ]
  },
  {
   "cell_type": "markdown",
   "id": "07f4fcb2",
   "metadata": {},
   "source": [
    "Criando os labels com LLM para o holdout"
   ]
  },
  {
   "cell_type": "code",
   "execution_count": 44,
   "id": "1b34c700",
   "metadata": {},
   "outputs": [],
   "source": [
    "def classificar_reviews_openai(client, batch):\n",
    "    prompt_template = (\n",
    "        \"Classifique cada review abaixo como 'positivo', 'neutro' ou 'negativo'. \"\n",
    "        \"Responda no formato: <doc_id>: <classificação>\\n\\n\"\n",
    "    )\n",
    "    prompt = prompt_template\n",
    "    for row in batch.iter_rows(named=True):\n",
    "        prompt += f\"{row['doc_id']}: {row['review_text']}\\n\"\n",
    "    prompt += \"\\nResponda apenas com as classificações.\"\n",
    "\n",
    "    response = client.chat.completions.create(\n",
    "        model=\"gpt-4o-mini\",\n",
    "        messages=[{\"role\": \"user\", \"content\": prompt}],\n",
    "        temperature=0\n",
    "    )\n",
    "\n",
    "    classificacoes = {}\n",
    "    for line in response.choices[0].message.content.strip().split(\"\\n\"):\n",
    "        if \":\" in line:\n",
    "            doc_id, label = line.split(\":\", 1)\n",
    "            classificacoes[doc_id.strip()] = label.strip().lower()\n",
    "    return classificacoes"
   ]
  },
  {
   "cell_type": "code",
   "execution_count": 50,
   "id": "466231b8",
   "metadata": {},
   "outputs": [
    {
     "name": "stdout",
     "output_type": "stream",
     "text": [
      "Classificando Batch 0\n",
      "Resultado:\n",
      "{'bbe56245f9be98b922ff6c35992ba2da_57b5e5e19622c1aaf0fd159f5d9d5b4f': 'positivo', 'e912fe377f77944ec68b3650ead100bf_0fa8853b873ba06e7d27385fbb1411ca': 'neutro', 'fcd0b91ad7d520a891affcc33e293566_63cf4d771cba1d380af927afe5895d4b': 'negativo', '4e7215ac8ad76bd95a10b8230492c690_f961683d82cf9021acfcd05a6c9e38d0': 'positivo', '556bb5c8ecb64be5ee1ee039d4376432_f5d5fa2bc95883494c61ae05a351348a': 'positivo', '774e1d0dad9de39af357f92c7180e21f_a62e25e09e05e6faf31d90c6ec1aa3d1': 'neutro', '504a90faaf31b2457b86f7179a6bd79e_f264c1d9b20b5e4a340254d0405e613b': 'positivo', '3c7299e1335df876b15d9b4cd3858fa9_23c6236434e58c6519c19e56c2dade45': 'positivo', '07dc1dc61c5ee9a1387069fec64b6663_342936541051cf54fbe4879bd6e84985': 'positivo', '2804400973412de4efdaf1399281199c_23bcd6822a33df5534f9b290216eec1f': 'positivo'}\n",
      "Classificando Batch 1\n",
      "Resultado:\n",
      "{'ba714b832c8a26b8b6ce921e0ecbc886_8c292ca193d326152e335d77176746f0': 'positivo', '93355a1eda6104b6fc69e20c6dfa753a_4df79064ddcd595b7c0ca80f9729a67b': 'neutro', '260e68b2fc1a2d642a00af60af19b0aa_f541764c0e99f1a821dc9d5bb1143a88': 'positivo', '25efa6c863eee6b4b658233ee3b463a3_4cbe2c068a0dedc1d12e126a2e7a15e3': 'positivo', '538be20e72bfe8506afe7be4b3dd4467_dab2413ead0edda9967edbc9bda2a64e': 'positivo', 'b736f9c98deb53b03ac6e931f3373063_d9524ab5892f79d3de3870697ad7b25d': 'positivo', 'debae70295ed78cb6084b1f999e60724_4567fd79f37f89a3f13db0bda7441a0e': 'negativo', '101dd34c03c31b22d56fa2f1973b1e85_c00f76b76f52037b0fc9f71fd8a7ac10': 'neutro', 'b1f6abbaec3261269b9ecc0f895f8c2d_0eb8e03d4ef83152c4642b606b5bbdec': 'negativo', '02355020fd0a40a0d56df9f6ff060413_a3daee3915d4fb98376e039ede6bdea6': 'negativo'}\n",
      "Classificando Batch 2\n",
      "Resultado:\n",
      "{'078631b9a61981e46492905d792730c2_0918fd47e51e716ae8b6d2512866988d': 'positivo', 'c2cf7a378143a3cc8bcd7c1cacbc3f8c_522f7a0f8944ac27a74436210e112821': 'neutro', 'cfa438aab28ed50c386312e0e475dd82_7a3d2e33323f0341eaecc6154c003ac0': 'negativo', 'eec03c88b33036c654afd8c6dcefd225_c1af2dbb7ddaa89a57094a6fde7578bf': 'positivo', 'bbca89624572b1532cc19840d3ad81c8_a4d8f727f92014da5dd64116af14634c': 'negativo', 'ad01e26d29b4818ba6299d1356a130b7_f9cce3e19235fa7d11942f69caaa22c7': 'negativo', '2bd50f23991e78268a92afaf29d6e459_5411e9269501a870cabf632f05655131': 'positivo', 'a7abe735fa002a72636ab38fcac70330_cb6c1c21ebc9c153a7baf319c515657a': 'positivo', '827ccb77a1b8dd1f0e079958667c7d7d_2848023ffcfb063bb7aa0d0c447bd116': 'neutro', '8f4dff9c7bdbfd26aee6064637637f24_060f0122cdc8f25db4a0d7359fdae7b0': 'negativo'}\n",
      "Classificando Batch 3\n",
      "Resultado:\n",
      "{'b52b4c23e1d9e705c8d31ab607ae9b50_49f906609418f32ad932aa7a24396268': 'positivo', '957b2a53b998f467d33357ec24b2b467_473795a355d29305c3ea6b156833adf5': 'neutro', '3516e5d5f67c23496363aa89756c4cba_bf2ccdfcde5e9644cc41491d56f4921a': 'positivo', '4294e241abc5a583ac06ee97d557745f_368c6c730842d78016ad823897a372db': 'positivo', '4668e269b27ff744f3bd603a9c444d32_165f86fe8b799a708a20ee4ba125c289': 'positivo', '840d7cc10efae8ba460cc8ea84f1b6db_e10c5041c0752194622a7a7016d8c9b5': 'negativo', 'd27c2efd9421cde0945261467fb1a025_97bb088389e83ef547d4f736067ada7c': 'neutro', 'f76b895a9902ad634abed7eec3211a10_bbe8590c1225fbb6a477018283da0677': 'positivo', '7b70ed12304671aecd4d8fef24017f5b_21ee06f7fd37a6fe4841865339411674': 'positivo', '525ef5459736975ad3586bef388ea0f6_ce045b0fd0fb3300b45effc7fb45012d': 'positivo'}\n",
      "Classificando Batch 4\n",
      "Resultado:\n",
      "{'14cef40ef56939096a73790b10938a79_1fb344134cd7164d32dea4d87ba3ec5a': 'positivo', '54bc2449fbe0368b74470e4280fe494e_78efe838c04bbc568be034082200ac20': 'positivo', 'e5f5eb78b3535d3013d4f1f7050cdc9e_c75a872692395427a0cfe0cf90bc858f': 'positivo', 'e3111d19cd703ecaa907dca4af37c0c5_97017430754804328eb9597b7f85da03': 'neutro', 'f8bae43b5bec9eb0d3ae12b8d3b72884_4082e07ccc62fff9dfaf275a81804952': 'positivo', '143557cd5a7387503d5222e9a1efed75_bd69e6d599b9a3d9c298617c14e46f9f': 'neutro', '832e0a03685bfc20477ea18436e023a2_5d790355cbeded0cd60e25cbc4c527a2': 'positivo', '103407760762721e1dbb7247b5f7c331_dd768d259ee6054e0dadd66c8e2be0b6': 'positivo', 'b3c0d30328473d54c9e53a0e9aa04aca_9f7b48e2d4e4d7375f71a10791faa1b8': 'positivo', 'e9cd616f98d71b98fd6464ec06a6f763_01cda14e6051f3dcf61bb80abf210b79': 'negativo'}\n",
      "Classificando Batch 5\n",
      "Resultado:\n",
      "{'0f9c4649f5424745dd8ecf5147c6e00c_b206760d97dbc76527bb07029a6179cb': 'positivo', '127c7c3952c417b3957fee6db67a1a8b_3fc18e3aefe7b9346bd15de863fa0365': 'negativo', '3613892d0bff9156e733d4f86a1cd12b_2b7aa376a6e728560bddb5558cc48e89': 'positivo', '097abce97e431993434adabc1aaec4e4_54b755678728b84472c2b654ac4de777': 'neutro', 'ff0b6187cf7193bed62f8974ee957d5f_2b4609f8948be18874494203496bc318': 'negativo', '2d846c03073b1a424c1be1a77f532dad_18f0c077dff7331d813fd82f7dd05a6e': 'negativo', '1d4eedab93656360bfea837a37784384_6bd248f93425ceeb625a8a97e2404112': 'positivo', '4c5d211b472b4169ab861de4517d16a0_a0fe1efb855f3e786f0650268cd77f44': 'positivo', '2583425d8fd6d2a22d92c8480c1b546d_b532349fe46b38fbc7bb3914c1bdae07': 'negativo', '8f491cf3fabf128822544c78d73acfc3_0bcc3eeca39e1064258aa1e932269894': 'positivo'}\n",
      "Classificando Batch 6\n",
      "Resultado:\n",
      "{'0c8703831f0dff29ae877f4f9cce845c_1dce3fd38c13a3e74fe5000f33858442': 'positivo', '30ef7c120f099b71e0e0eae30f95c954_4b7abf05291c02396d0c60ed5e03e2a9': 'positivo', 'c68ebb39f1acedc7b1b543ecb53194c8_c1ad8ac66c91ad301cefc322ba2adf31': 'negativo', 'fbdefc6748a086900f96b1713c6bb1ea_2332f34b4b3eb82c326126ed5eef6478': 'negativo', '573de7df35639ded5e09b11ea2542d17_111110604c6d3718f07e26dbff3d46bc': 'positivo', 'c22857ca01052cca0c4dea70902c5a92_57d79905de06d8897872c551bfd09358': 'negativo', '648e0ac5cc6c2c2f7fa83738b193516a_12679a5fde22662b441abe4f754345ae': 'neutro', 'afccf88c36161bee5115afcc8fe3cdad_cfd414b4463647f58c7775eaae06893d': 'positivo', '403bc403b9cc4b10bc0de6b86281728e_d2085f7e0f9533605386960fc7e987ec': 'positivo', 'd1bae3aba9294d4d0cb1141637b50f07_08d708da93f03eb686328dbb33bb731e': 'positivo'}\n",
      "Classificando Batch 7\n",
      "Resultado:\n",
      "{'1a13ca44eb6a81849dac4aca572b5694_389d119b48cf3043d311335e499d9c6b': 'positivo', '8bbd7c85404f2985106229d03d281d55_ea4f4b5a820fea007c6c8d7ef9a790bc': 'negativo', 'fbad56f6a1339fecaa323b209c423b1e_6c3effec7c8ddba466d4f03f982c7aa3': 'negativo', '9ddba77d69c77e988ac02c012a59d058_a6b7073cf928329df156bb534b95b2cc': 'neutro', '14f90c3a16f99d432faf1ed9edde1379_8b51c6ccc9c0548c951214e1cd1547ff': 'positivo', '5f1c6f4cf77108f298378c829da557c2_bee2e070c39f3dd2f6883a17a5f0da45': 'positivo', 'bb4bca7a32efb68689c2d0d08fcd6c64_526f833e1eb0a32ad9351145a761b9ab': 'positivo', 'c04166574120428f8692aa072697cebc_a367f823feb49954fedb4f4a43ad9db2': 'negativo', '59e44a5b3531b9de0e55335ef6cfce2d_5bde14b0ba42a788655c3ebf4ba54597': 'neutro', '2ca4efdc485d435bf550022118cb95db_69455f41626a745aea9ee9164cb9eafd': 'negativo'}\n",
      "Classificando Batch 8\n",
      "Resultado:\n",
      "{'11660e2c0590a8f36299b868f3e95bed_48e146e09757f4c6bc13be2f96dd0ec5': 'negativo', '41302ef57ccbb4cb215dd5ead09b286e_4487261e208ce5d3a8d1a997ccd99dcf': 'positivo', '1816604dbb7f5d2f152dec74b3379aa2_389d119b48cf3043d311335e499d9c6b': 'positivo', 'f1847d849e2d6711494f463343546542_642a40d4d73b4b2604968937de13634a': 'positivo', '4338e6bc70fcf731f6d799f56c66b6cb_b216627ec2c376d682722970832aa2c1': 'neutro', '074241ce500ccb810dc2a36222167798_389d119b48cf3043d311335e499d9c6b': 'positivo', '6c1d2589bb92157989da84b6f7ac8ef6_bbc5419bc92d76e27795c9ec2c233c64': 'negativo', '1cba415ed9929ef8517f8915b418bbf4_f111bc943c81722e3b96cb1d089026fb': 'positivo', 'eb0f435a0e25da756bb8870a2ab5bbcd_636636222363eaf74bf5e313dc934cd0': 'positivo', '84fb07b1184d14c73d4062470315b61b_85d187257cdbf2692d10649a11c7e78b': 'negativo'}\n",
      "Classificando Batch 9\n",
      "Resultado:\n",
      "{'95b5dec92eff326736e1060b339f0013_bee2e070c39f3dd2f6883a17a5f0da45': 'positivo', 'a89532f439dee652b2e9bc7bc3af44c7_d63c1011f49d98b976c352955b1c4bea': 'positivo', 'b8dabd1b3ebaab3808cbf73107a61a6b_aee9cd26256b232251c668f81a66a52e': 'positivo', '0bfa29f2e2ca95b17ab75e7ecf1f9df8_f0ea71b6e2ab4cb3bd8f5ba522a25a56': 'negativo', 'edd733119bc50e9804ce6c4cadce3334_f2f960ea3804c29b5e5834c34082a0f4': 'positivo', 'c8a0e08123c9e8c38daf82bc0e696b1b_c50ca07e9e4db9ea5011f06802c0aea0': 'positivo', '0a3fcfaf1098f95867cdeeb766561eae_cd82271424be9568801391194697361c': 'positivo', '289a45b09606de7a3d7003baa2b650d0_df5032e775a51867fcd72f5b742f2f33': 'positivo', '451ef728c85c9cb2765159e30f4fa021_4898021db93ae39fbea80a9b2bda3b4c': 'positivo', 'a542a9cfa2781b4971db13cbb7ac88e2_bdca5879b3afce0e138e71a68ad26d04': 'neutro'}\n",
      "Classificando Batch 10\n",
      "Resultado:\n",
      "{'650ffb197b3906c90c24293d86fd0dd7_f288cae3916218ec01f708d093b29d4f': 'positivo', 'e67084522c92fecab73ff064333c4d62_d952c09021388fd5b1e5f914f559fb10': 'positivo', 'ba772856bdab971f8c7eae9e03cf8706_9fe172fa8e662ca8572cf12abf8bce23': 'positivo', 'c676e726f8a14a9527b41b9dc50ca1bc_b694e2087c446e6905b08cd9360cfe45': 'positivo', '4207ad8e0e4e4070f271c930d25f72d7_368c6c730842d78016ad823897a372db': 'neutro', '8f50ea351cdf971144474e5a4aef9dd4_06c6e01186af8b98ee1fc9e01f9471e9': 'positivo', '937e5f3a8d8e8f17ee884f59b8994eed_d285360f29ac7fd97640bf0baef03de0': 'positivo', 'e9f01d29281098ee776a7954eae03dda_3a4c258c71b027dfe480fdb608e2d9a1': 'positivo', '2cb5ed8e391a8ef966fe938d480510b1_3ecdc0c6f18cf5c74f2b2e11c23ef462': 'negativo', '171fd36e6d28aaa958e043b897006f1d_ffc9caf33e2d1e9f44e3e06da19085f7': 'positivo'}\n",
      "Classificando Batch 11\n",
      "Resultado:\n",
      "{'93ee5063c90357efe9aaeabb20badbf6_f32415d23c358ef1e387a7d329d9ce9f': 'positivo', 'f1551636056618e77921de4bd2bb5e7c_c4cde99afaa1f45277912a3cf485021f': 'negativo', '7db5f2eb8f5f54db9f9e71ba4296bcbf_2a2d22ae30e026f1893083c8405ca522': 'positivo', 'f6284b20e702b2576ee9a3531fde571d_6edc9b56c4c39bdb01f497fa86554003': 'positivo', '39a74c4560e0e96397582d0a8ce8781e_785365b9ad25d832bdde56f305159fdb': 'neutro', '7e41af71933a120d6d0fcf9249f19a85_129de02d0ac6adf4f77c41bc157adbeb': 'positivo', '8d0eadc2f03365a8b7ba45670cc5228e_c2441af97dc659059897209bd93bfc3e': 'neutro', '0fc2805c054f060f9b7db454927b5024_d7d5562fce331ad958ca6f57057b3526': 'negativo', 'd295fdedde1742dab056f335be894679_49cd59957f1c81427ca0b2edf5696969': 'negativo', 'e28af6871de556face371e45277e28aa_e35e57ac692a504d2fbb8f30e188c693': 'positivo'}\n",
      "Classificando Batch 12\n",
      "Resultado:\n",
      "{'c8c474f20a667ba003a1f6e929fc3a44_a336b0ac7335c30f4117c4b824332a7e': 'positivo', '16292a9c0445a1d618c28b154f1a6fbe_d89b65ae21c1eed8128aafb8c3c553fe': 'neutro', '443927ed7bbf7df399ca64efdb0b684c_e5989cd466f0714e1439b95bf6a279da': 'negativo', '82ea57e68e895b25d0e2f3da566322e6_1e618d311a1b7f88a9d96ec50aa85582': 'positivo', 'eb2407826087507a6c67c9329bbfaadf_2ff995aead9c63a1f37a07b3664ead37': 'positivo', 'd5e14257809839727a3b7094b8fbe64b_c8abdbe349a97073e7aebc795be55bd8': 'positivo', '64214eee33528e79cda8311c1a40d259_ae6b739ab6e9d7991fb2ddd70f9c0b6b': 'positivo', '5182f75b9ed284e0a569ea4f61e9bfc5_0a57f7d2c983bcf8188589a5fea4a8da': 'negativo', '5eca2113141f2c0e048b11bdcb7a0371_612e4aedc946db0cf1a5b9e1f2f81272': 'negativo', 'c37699d5260dd482b08d717de0b06cd7_06c6e01186af8b98ee1fc9e01f9471e9': 'positivo'}\n",
      "Classificando Batch 13\n",
      "Resultado:\n",
      "{'d87efaa8a13d7d43b3464f49c528c787_3e442d09f9dfef002aadf31960869f65': 'positivo', 'eaedbddc7cf568f1b667398781159118_d48bacc1dcd9c86bf1ed4ed2a303336c': 'positivo', '3417aa576662236ea66ef37b0558d6fd_a62e25e09e05e6faf31d90c6ec1aa3d1': 'negativo', '08ee999a47fad7aab826e8604eff09a1_b534af96f1c598768bc7379aca584edd': 'positivo', '6ed0160458711e37991b4c5bb0625d3b_edfbb2566914ddd223d3bd6fa1e9693c': 'positivo', '668806d98daef95d0b00c461c8c4afc3_16280ca280a86fee2ba3c928ed04439f': 'negativo', '777ee9fd50fbe50e788ef536b1656b08_8d7fb99738e3e3abeeb1aa30d3c7f69f': 'positivo', '388241639571ce95ace22e76655719f9_8562e2c780a345b609e1b802d7e3e4ae': 'neutro', 'd4bf023e837c3f54ebf5a9abe045fb93_52e5fdcb5e51164483d584c75bd3a478': 'positivo', '312bfb221da51864b9fc4b361542ee5b_53d8ee87caa1a2320c66074ff9c99e61': 'negativo'}\n",
      "Classificando Batch 14\n",
      "Resultado:\n",
      "{'f08abbff7e606943778266ee1267b369_306dcbc0bb646b50b3d86c6803558347': 'positivo', '68987346a4a9df9cbbb2234b956dd59d_eac894f4cb6bb0f613f80bdbfb18fa57': 'positivo', 'e4d9e2f02a048ae46330e966d1a8caa3_5a848e4ab52fd5445cdc07aab1c40e48': 'positivo', 'ab8fb8695d598ca38617cc9ec507bbfb_a0b7d5a992ccda646f2d34e418fff5a0': 'positivo', '0036757472ece3dde52fd4bfd929c90e_4c1bbc12438daec98a77243c2bf7a3ba': 'negativo', '5402b020da6d5ee7b7f1d43f22dbae97_154e7e31ebfa092203795c972e5804a6': 'positivo', 'b9f23a5c0cbae81d8a326804b0c7513d_033c52084417b98d716d863d8bd11fba': 'positivo', '9cf7337281a128f4f29a2f476c733601_3b42242085259cb66b6e577ae5173c76': 'positivo', 'e699e3eba235aee5f9c5d48559430616_38ca370eb78337543f61175cf96964c0': 'positivo', '08fb515ec54c34ca06b1e2268acc429c_96f41c94be1dc7d1c91415db05658d6b': 'neutro'}\n",
      "Classificando Batch 15\n",
      "Resultado:\n",
      "{'86fb6e774be23ed33e81228e64739851_18b0e642cbae7251e60a64aa07dd9eb9': 'positivo', '51e3f832063f79a142e48f488f4e880b_4d7fee7877228c1497477ae53d97c214': 'negativo', '38907d62f0ad31245147a7a2378ff1db_75d6b6963340c6063f7f4cfcccfe6a30': 'negativo', '47cfbb8818b5ab3dc290a1ee38d6f0b9_6971a132d48181b7060704b73f3bfed5': 'negativo', '9a707aec48fe07465e8219dd3b52225f_36f60d45225e60c7da4558b070ce4b60': 'positivo', 'e20aaa6862f849ed8fa3b602147e09ea_46cc07237660346018f8838ae0b7ed2b': 'neutro', '80a2b0dcabefef6a83477204433b2482_e9ece5b909d4feee55f77a610b262367': 'negativo', 'de3fbfa556cedccc424406bcb5eaac96_7d21a88f26eb0766b0b555f71a16750f': 'neutro', 'abcf460ff11589e91290e8f95caeeef7_23384f296aa1bf6461d22912093a9847': 'positivo', 'd1aa2409cda0cbe698a489a0f9364c2a_00878d953636afec00d3e85d55a12e7f': 'neutro'}\n",
      "Classificando Batch 16\n",
      "Resultado:\n",
      "{'35feb4a5e2fa951053a5bf703cd631ef_3319ec949aa117693a4d6fd941858af9': 'positivo', '6a2cf11a0f3d4670de5674e795196f14_c9fa6a0dbc5b979d8c99f38c3c9c912f': 'positivo', 'f1ec76883496424477c5c8162558a911_7b66dd141e94feae8c845e69fa60ac9f': 'positivo', 'db5a41f8a08f620920c7c413e91a4438_1fe1f9dca96414bdc282cddb276db70e': 'negativo', '940586e6751748f8a6bb630c6f5e3415_d696750e550fd0f733979dd7e5dff921': 'positivo', '793df0d4fd68cb0530ca5b533e3f1b84_78b7b1ff2d3f06a589354ddf2f4f9db3': 'positivo', 'e2f630b53cb2637be372c3810b089868_4a0938478787f49dc07af734b86be96c': 'negativo', 'b784702b3377c4b93c2159512fbf937e_13c20e4b6e3e7d4f0f336fedcf4198da': 'positivo', '5dc60558e06256f411fff50ee8e785ca_137ecfd76c78e5b4471f0e9b3c63cdbe': 'positivo', 'add3e322151e47705826b60fbe20356f_0d146484c69d613fe015c0229056b065': 'neutro'}\n",
      "Classificando Batch 17\n",
      "Resultado:\n",
      "{'e840e5955073ba6b71936b76740014f4_d2f1cd931c7b76fefa93547cc1b4881b': 'negativo', '1f3e98938afd17558e267ed6afda4c95_b224eb3c154415f1a25f604619f48b77': 'neutro', '975f731e0b62d3884197075bbf60685a_ea20f928ceaa7f146fe62a0cc8413ee5': 'negativo', '2f3a10460f829a155fddd925f0e2f9c5_f1c7f353075ce59d8a6f3cf58f419c9c': 'positivo', '72935c1f27775472627da411819164f0_d1c427060a0f73f6b889a5c7c61f2ac4': 'positivo', '1ca88ffec09fd363aa4aa1cb994c851d_a04f52ded97b5530e8783e3c002b90f0': 'negativo', '9916e82812289e085948ecfceaecfd28_a7ca7fd9bf5015bfeecc4010e8fa4ce7': 'positivo', '43ee68cd19f18fcf7dfc4ea167554e40_cf492edce9b45b948fae7ca5cfb4c24c': 'positivo', '9662b2b232add4b9dca5f9f755680cbd_0a57f7d2c983bcf8188589a5fea4a8da': 'negativo', 'd19772e154f0929b89a1dab65648767b_d6160fb7873f184099d9bc95e30376af': 'positivo'}\n",
      "Classificando Batch 18\n",
      "Resultado:\n",
      "{'d69c7c969d600368c5f533b188e402eb_7ce94ab189134e2d3c05f496d635419c': 'negativo', '828c3114b783f896fba059433600c471_368c6c730842d78016ad823897a372db': 'negativo', '956e905489c92b9c9478e8bd23609261_9fe5201316c8185058e8a4056e53cc78': 'positivo', 'b0a8cc8421eab80e4bc4bc3a92cdefad_dbc7aaf61b2639b1f282509ff1349bec': 'positivo', 'bfadb548852a3f28f3beba2245ccd552_b49315bbc5fe119fafd17c53f573bfae': 'positivo', 'dda8f75fb8054c3ca6c30c815b3afa62_6cbbcefd974f08f72023c05064d96f27': 'neutro', '8c8005895f46f6c1bdf16697c70e645a_06f756df8d80309915285f3ee6ea1059': 'negativo', '680fa5c6b4ff5efa74b9ee8c95638ac2_d8a5b759acaff49096bf67c33d9a9372': 'positivo', '86292405a21099d6258be8e7c39d78b7_ca38c039b717207dec906f4fa9a21db7': 'positivo', '260b8c09973c3e4067907121aac17c14_07c055536ebf10dfbb6c6db6dbfc36e5': 'neutro'}\n",
      "Classificando Batch 19\n",
      "Resultado:\n",
      "{'b56797ea631520e4e802653f5b16f58f_9fc98e39f04be8e382d8aa5e259f5489': 'positivo', 'e3b7e48fbae78fdbffdf354d08bfcf4a_894d3a43c12eefa5d5bf7e9d68520b68': 'positivo', '4953cbca0dc4ee03b38a9b279af7bff8_f89d2b130b571d24532514dca6fee2a8': 'positivo', 'af7c5cbf4bb52c9f686828ffe06a4f6e_aca2eb7d00ea1a7b8ebd4e68314663af': 'negativo', '0176e50f3853fa068127afa3daff6402_ea3be87c5c6c69043c9eb7836199c200': 'negativo', '1f46960aa3ffd141df0ca069e617b4a2_33ba4b29d820b397054cc97e892ab1bc': 'positivo', 'c4a75a6df3e234dd684c7a6dd7e7b1ac_4e0dbe365a79679e8072f9ce716d3f5d': 'positivo', '2a005820c4272e5679d8174656fe4e96_c166595bd1ea20e060090a5b91145196': 'positivo', '5188cf1701fceace6ec6f14b40773f97_4e5e41fb7d296a6f776c63fee5cb9fac': 'positivo', 'be05bd6519a58cf3d3e4ca73c99f5395_c50ca07e9e4db9ea5011f06802c0aea0': 'positivo'}\n"
     ]
    }
   ],
   "source": [
    "holdout_batches = [holdout.slice(i, 10) for i in range(0, holdout.height, 10)]\n",
    "labels = {}\n",
    "\n",
    "client = OpenAI(api_key=os.getenv(\"OPENAI_API_KEY\"))\n",
    "\n",
    "for i, batch in enumerate(holdout_batches):\n",
    "    print(f\"Classificando Batch {i}\")\n",
    "    batch_labels = classificar_reviews_openai(client, batch)\n",
    "    print(f\"Resultado:\\n{batch_labels}\")\n",
    "    labels.update(batch_labels)\n",
    "    time.sleep(1)  # Evita rate limit"
   ]
  },
  {
   "cell_type": "code",
   "execution_count": 60,
   "id": "146feb38",
   "metadata": {},
   "outputs": [],
   "source": [
    "holdout = holdout.with_columns(\n",
    "    pl.col(\"doc_id\")\n",
    "    .map_elements(lambda x: labels.get(x, None), return_dtype=pl.Utf8)\n",
    "    .alias(\"sentiment\")\n",
    ")"
   ]
  },
  {
   "cell_type": "code",
   "execution_count": 66,
   "id": "c4b8c50c",
   "metadata": {},
   "outputs": [
    {
     "data": {
      "text/html": [
       "<div><style>\n",
       ".dataframe > thead > tr,\n",
       ".dataframe > tbody > tr {\n",
       "  text-align: right;\n",
       "  white-space: pre-wrap;\n",
       "}\n",
       "</style>\n",
       "<small>shape: (3, 6)</small><table border=\"1\" class=\"dataframe\"><thead><tr><th>sentiment</th><th>1</th><th>2</th><th>3</th><th>4</th><th>5</th></tr><tr><td>str</td><td>u32</td><td>u32</td><td>u32</td><td>u32</td><td>u32</td></tr></thead><tbody><tr><td>&quot;negativo&quot;</td><td>36</td><td>6</td><td>7</td><td>1</td><td>1</td></tr><tr><td>&quot;neutro&quot;</td><td>4</td><td>2</td><td>7</td><td>8</td><td>8</td></tr><tr><td>&quot;positivo&quot;</td><td>0</td><td>2</td><td>3</td><td>21</td><td>94</td></tr></tbody></table></div>"
      ],
      "text/plain": [
       "shape: (3, 6)\n",
       "┌───────────┬─────┬─────┬─────┬─────┬─────┐\n",
       "│ sentiment ┆ 1   ┆ 2   ┆ 3   ┆ 4   ┆ 5   │\n",
       "│ ---       ┆ --- ┆ --- ┆ --- ┆ --- ┆ --- │\n",
       "│ str       ┆ u32 ┆ u32 ┆ u32 ┆ u32 ┆ u32 │\n",
       "╞═══════════╪═════╪═════╪═════╪═════╪═════╡\n",
       "│ negativo  ┆ 36  ┆ 6   ┆ 7   ┆ 1   ┆ 1   │\n",
       "│ neutro    ┆ 4   ┆ 2   ┆ 7   ┆ 8   ┆ 8   │\n",
       "│ positivo  ┆ 0   ┆ 2   ┆ 3   ┆ 21  ┆ 94  │\n",
       "└───────────┴─────┴─────┴─────┴─────┴─────┘"
      ]
     },
     "execution_count": 66,
     "metadata": {},
     "output_type": "execute_result"
    }
   ],
   "source": [
    "# Calcula a crosstab absoluta\n",
    "crosstab = holdout.group_by([\"sentiment\", \"review_score\"]).len().sort(\"review_score\").pivot(\n",
    "    values=\"len\",\n",
    "    index=\"sentiment\",\n",
    "    on=\"review_score\"\n",
    ").fill_null(0)\n",
    "\n",
    "crosstab"
   ]
  },
  {
   "cell_type": "markdown",
   "id": "8796612b",
   "metadata": {},
   "source": [
    "> Podemos perceber que a classificação por score acerta relativamente bem os negativos e positivos mas não os neutros, por isso não podemos usar simplemente o score como informação de predição pro sentimento do review"
   ]
  },
  {
   "cell_type": "markdown",
   "id": "1af2bcb9",
   "metadata": {},
   "source": [
    "Salvando os datasets para uso posterior facilitado"
   ]
  },
  {
   "cell_type": "code",
   "execution_count": null,
   "id": "ddcbb8c1",
   "metadata": {},
   "outputs": [],
   "source": [
    "holdout.write_parquet(Path().resolve().parent / \"data\" / \"gold\" / \"holdout.parquet\")\n",
    "train.write_parquet(Path().resolve().parent / \"data\" / \"silver\" / \"train.parquet\")"
   ]
  },
  {
   "cell_type": "markdown",
   "id": "d2c137a1",
   "metadata": {},
   "source": [
    "## Treinando o modelo apenas com Weak Labels"
   ]
  },
  {
   "cell_type": "markdown",
   "id": "289d2aad",
   "metadata": {},
   "source": [
    "Extraindo Features (X) e Target (y) e gerando os embeddings que serão usados para previsão"
   ]
  },
  {
   "cell_type": "code",
   "execution_count": 72,
   "id": "d5a15c42",
   "metadata": {},
   "outputs": [
    {
     "name": "stderr",
     "output_type": "stream",
     "text": [
      "Batches: 100%|██████████| 942/942 [00:27<00:00, 34.69it/s]\n"
     ]
    }
   ],
   "source": [
    "features = train[\"review_text\"].to_list()\n",
    "target = train[\"sentiment\"].to_list()\n",
    "\n",
    "model = SentenceTransformer(\"paraphrase-multilingual-MiniLM-L12-v2\")\n",
    "X = model.encode(features, show_progress_bar=True)\n",
    "y = np.array(labels)"
   ]
  },
  {
   "cell_type": "markdown",
   "id": "4cc40caa",
   "metadata": {},
   "source": [
    "Fazendo o treinamento do modelo usando Cross Validation Estratificada"
   ]
  },
  {
   "cell_type": "code",
   "execution_count": null,
   "id": "7b8dab51",
   "metadata": {},
   "outputs": [
    {
     "name": "stderr",
     "output_type": "stream",
     "text": [
      "[Parallel(n_jobs=1)]: Done   5 out of   5 | elapsed:   37.2s finished\n"
     ]
    }
   ],
   "source": [
    "clf = XGBClassifier(eval_metric=\"mlogloss\", random_state=42)\n",
    "cv = StratifiedKFold(n_splits=5, shuffle=True, random_state=42)\n",
    "\n",
    "# Codifica os labels para inteiros\n",
    "le = LabelEncoder()\n",
    "y_encoded = le.fit_transform(y)\n",
    "\n",
    "# Cross Validate\n",
    "result = cross_val_predict(clf, X, y_encoded, cv=cv, verbose=1)"
   ]
  },
  {
   "cell_type": "code",
   "execution_count": 87,
   "id": "797a6930",
   "metadata": {},
   "outputs": [
    {
     "name": "stdout",
     "output_type": "stream",
     "text": [
      "              precision    recall  f1-score   support\n",
      "\n",
      "    negativo     0.7409    0.8581    0.7952      7479\n",
      "      neutro     0.2939    0.0614    0.1016      2590\n",
      "    positivo     0.8989    0.9377    0.9179     20073\n",
      "\n",
      "    accuracy                         0.8426     30142\n",
      "   macro avg     0.6446    0.6191    0.6049     30142\n",
      "weighted avg     0.8077    0.8426    0.8173     30142\n",
      "\n",
      "Confusion Matrix:\n",
      "[[ 6418   174   887]\n",
      " [ 1202   159  1229]\n",
      " [ 1043   208 18822]]\n"
     ]
    }
   ],
   "source": [
    "y_pred = le.inverse_transform(result)\n",
    "\n",
    "# Avaliação\n",
    "print(classification_report(y, y_pred, digits=4))\n",
    "print(\"Confusion Matrix:\")\n",
    "print(confusion_matrix(y, y_pred))\n"
   ]
  },
  {
   "cell_type": "markdown",
   "id": "c490a90b",
   "metadata": {},
   "source": [
    "> Como podemos ver, com base no f1-score, as classes positivas e negativas são mais fáceis de prever com base apenas no Score já a neutra é muito mais difícil, por isso vamos agora treinar o modelo e pegar aqueles registros que o modelo encontrou dificuldade de prever"
   ]
  },
  {
   "cell_type": "markdown",
   "id": "b741afac",
   "metadata": {},
   "source": [
    "Vamos treinar o weak na base de treino e avaliar a performance na holdout para podermos comparar depois após o treino do modelo em gold label"
   ]
  },
  {
   "cell_type": "code",
   "execution_count": 88,
   "id": "e488513e",
   "metadata": {},
   "outputs": [],
   "source": [
    "clf_weak = clf.fit(X, y_encoded)"
   ]
  },
  {
   "cell_type": "code",
   "execution_count": 91,
   "id": "81318966",
   "metadata": {
    "vscode": {
     "languageId": "ruby"
    }
   },
   "outputs": [
    {
     "name": "stderr",
     "output_type": "stream",
     "text": [
      "Batches: 100%|██████████| 7/7 [00:01<00:00,  6.81it/s]\n"
     ]
    },
    {
     "name": "stdout",
     "output_type": "stream",
     "text": [
      "              precision    recall  f1-score   support\n",
      "\n",
      "    negativo     0.7925    0.8235    0.8077        51\n",
      "      neutro     0.6667    0.0690    0.1250        29\n",
      "    positivo     0.8194    0.9833    0.8939       120\n",
      "\n",
      "    accuracy                         0.8100       200\n",
      "   macro avg     0.7595    0.6253    0.6089       200\n",
      "weighted avg     0.7904    0.8100    0.7605       200\n",
      "\n",
      "Confusion Matrix:\n",
      "[[ 42   1   8]\n",
      " [  9   2  18]\n",
      " [  2   0 118]]\n"
     ]
    }
   ],
   "source": [
    "# Extrai os textos e labels reais do holdout\n",
    "holdout_texts = holdout[\"review_text\"].to_list()\n",
    "holdout_y = holdout[\"sentiment\"].to_list()\n",
    "\n",
    "# Gera embeddings para o holdout\n",
    "holdout_X = model.encode(holdout_texts, show_progress_bar=True)\n",
    "\n",
    "# Faz predições\n",
    "holdout_pred_encoded = clf_weak.predict(holdout_X)\n",
    "holdout_pred = le.inverse_transform(holdout_pred_encoded)\n",
    "\n",
    "# Avaliação\n",
    "print(classification_report(holdout_y, holdout_pred, digits=4))\n",
    "print(\"Confusion Matrix:\")\n",
    "print(confusion_matrix(holdout_y, holdout_pred))"
   ]
  },
  {
   "cell_type": "markdown",
   "id": "9d376cfb",
   "metadata": {},
   "source": [
    "> Da mesma forma que na validaç!ao cruzada, no Holdout, a performance geral de positivo e negativo foi boa mas neutro não"
   ]
  },
  {
   "cell_type": "code",
   "execution_count": 98,
   "id": "7363ee7a",
   "metadata": {},
   "outputs": [],
   "source": [
    "# Fazendo previsões de probabilidade\n",
    "probas = clf_weak.predict_proba(X)\n",
    "\n",
    "# Pegando a maior probabilidade e os labels\n",
    "max_probas = np.max(probas, axis=1)\n",
    "pred_labels = le.inverse_transform(np.argmax(probas, axis=1))\n",
    "\n",
    "# Sinaliza registros com baixa certeza (<90%)\n",
    "pred_final = np.where(max_probas >= 0.8, pred_labels, \"incerto\")\n",
    "\n",
    "# Adicionando a predição no dataframe\n",
    "train = train.with_columns(pl.Series(\"sentiment_pred\", pred_final))"
   ]
  },
  {
   "cell_type": "markdown",
   "id": "58319d6a",
   "metadata": {},
   "source": [
    "Vamos verificar quantos registros ficaram com proba menor que 80% para o modelo."
   ]
  },
  {
   "cell_type": "code",
   "execution_count": 99,
   "id": "3218f331",
   "metadata": {},
   "outputs": [
    {
     "data": {
      "text/html": [
       "<div><style>\n",
       ".dataframe > thead > tr,\n",
       ".dataframe > tbody > tr {\n",
       "  text-align: right;\n",
       "  white-space: pre-wrap;\n",
       "}\n",
       "</style>\n",
       "<small>shape: (4, 2)</small><table border=\"1\" class=\"dataframe\"><thead><tr><th>sentiment_pred</th><th>len</th></tr><tr><td>str</td><td>u32</td></tr></thead><tbody><tr><td>&quot;incerto&quot;</td><td>2514</td></tr><tr><td>&quot;negativo&quot;</td><td>6969</td></tr><tr><td>&quot;neutro&quot;</td><td>1298</td></tr><tr><td>&quot;positivo&quot;</td><td>19361</td></tr></tbody></table></div>"
      ],
      "text/plain": [
       "shape: (4, 2)\n",
       "┌────────────────┬───────┐\n",
       "│ sentiment_pred ┆ len   │\n",
       "│ ---            ┆ ---   │\n",
       "│ str            ┆ u32   │\n",
       "╞════════════════╪═══════╡\n",
       "│ incerto        ┆ 2514  │\n",
       "│ negativo       ┆ 6969  │\n",
       "│ neutro         ┆ 1298  │\n",
       "│ positivo       ┆ 19361 │\n",
       "└────────────────┴───────┘"
      ]
     },
     "execution_count": 99,
     "metadata": {},
     "output_type": "execute_result"
    }
   ],
   "source": [
    "train.group_by(\"sentiment_pred\").len().sort(\"sentiment_pred\")"
   ]
  },
  {
   "cell_type": "code",
   "execution_count": 103,
   "id": "d74aebdc",
   "metadata": {},
   "outputs": [
    {
     "data": {
      "text/html": [
       "<div><style>\n",
       ".dataframe > thead > tr,\n",
       ".dataframe > tbody > tr {\n",
       "  text-align: right;\n",
       "  white-space: pre-wrap;\n",
       "}\n",
       "</style>\n",
       "<small>shape: (4, 6)</small><table border=\"1\" class=\"dataframe\"><thead><tr><th>sentiment_pred</th><th>1</th><th>2</th><th>3</th><th>4</th><th>5</th></tr><tr><td>str</td><td>u32</td><td>u32</td><td>u32</td><td>u32</td><td>u32</td></tr></thead><tbody><tr><td>&quot;positivo&quot;</td><td>12</td><td>18</td><td>113</td><td>4100</td><td>15118</td></tr><tr><td>&quot;negativo&quot;</td><td>5668</td><td>1290</td><td>6</td><td>3</td><td>2</td></tr><tr><td>&quot;incerto&quot;</td><td>310</td><td>181</td><td>1173</td><td>434</td><td>416</td></tr><tr><td>&quot;neutro&quot;</td><td>0</td><td>0</td><td>1298</td><td>0</td><td>0</td></tr></tbody></table></div>"
      ],
      "text/plain": [
       "shape: (4, 6)\n",
       "┌────────────────┬──────┬──────┬──────┬──────┬───────┐\n",
       "│ sentiment_pred ┆ 1    ┆ 2    ┆ 3    ┆ 4    ┆ 5     │\n",
       "│ ---            ┆ ---  ┆ ---  ┆ ---  ┆ ---  ┆ ---   │\n",
       "│ str            ┆ u32  ┆ u32  ┆ u32  ┆ u32  ┆ u32   │\n",
       "╞════════════════╪══════╪══════╪══════╪══════╪═══════╡\n",
       "│ positivo       ┆ 12   ┆ 18   ┆ 113  ┆ 4100 ┆ 15118 │\n",
       "│ negativo       ┆ 5668 ┆ 1290 ┆ 6    ┆ 3    ┆ 2     │\n",
       "│ incerto        ┆ 310  ┆ 181  ┆ 1173 ┆ 434  ┆ 416   │\n",
       "│ neutro         ┆ 0    ┆ 0    ┆ 1298 ┆ 0    ┆ 0     │\n",
       "└────────────────┴──────┴──────┴──────┴──────┴───────┘"
      ]
     },
     "execution_count": 103,
     "metadata": {},
     "output_type": "execute_result"
    }
   ],
   "source": [
    "# Calcula a crosstab absoluta\n",
    "crosstab = (\n",
    "    train.group_by([\"sentiment_pred\", \"review_score\"])\n",
    "    .len()\n",
    "    .sort(\"review_score\")\n",
    "    .pivot(values=\"len\", index=\"sentiment_pred\", on=\"review_score\")\n",
    "    .fill_null(0)\n",
    ")\n",
    "\n",
    "crosstab\n"
   ]
  },
  {
   "cell_type": "markdown",
   "id": "70d1d797",
   "metadata": {},
   "source": [
    "> Será os registros marcados como incerto que serão classificados pelo LLM para ajudar na predição"
   ]
  },
  {
   "cell_type": "markdown",
   "id": "334c1cef",
   "metadata": {},
   "source": [
    "### Criando dataset com rotulagem Gold"
   ]
  },
  {
   "cell_type": "code",
   "execution_count": 110,
   "id": "f4093dbb",
   "metadata": {},
   "outputs": [],
   "source": [
    "df_incerto = train.filter(pl.col('sentiment_pred') == \"incerto\").select(\n",
    "    pl.all().exclude(\"sentiment_pred\", \"sentiment\")\n",
    ")\n",
    "df_incerto.write_parquet(Path().resolve().parent / \"data\" / \"silver\" / \"to_refine.parquet\")"
   ]
  },
  {
   "cell_type": "markdown",
   "id": "33f0f973",
   "metadata": {},
   "source": [
    "Lendo o dataset com os registros preditos pelo LLM"
   ]
  },
  {
   "cell_type": "code",
   "execution_count": 115,
   "id": "9d379b9a",
   "metadata": {},
   "outputs": [
    {
     "data": {
      "text/html": [
       "<div><style>\n",
       ".dataframe > thead > tr,\n",
       ".dataframe > tbody > tr {\n",
       "  text-align: right;\n",
       "  white-space: pre-wrap;\n",
       "}\n",
       "</style>\n",
       "<small>shape: (3, 2)</small><table border=\"1\" class=\"dataframe\"><thead><tr><th>sentiment</th><th>len</th></tr><tr><td>str</td><td>u32</td></tr></thead><tbody><tr><td>&quot;neutro&quot;</td><td>700</td></tr><tr><td>&quot;positivo&quot;</td><td>813</td></tr><tr><td>&quot;negativo&quot;</td><td>1001</td></tr></tbody></table></div>"
      ],
      "text/plain": [
       "shape: (3, 2)\n",
       "┌───────────┬──────┐\n",
       "│ sentiment ┆ len  │\n",
       "│ ---       ┆ ---  │\n",
       "│ str       ┆ u32  │\n",
       "╞═══════════╪══════╡\n",
       "│ neutro    ┆ 700  │\n",
       "│ positivo  ┆ 813  │\n",
       "│ negativo  ┆ 1001 │\n",
       "└───────────┴──────┘"
      ]
     },
     "execution_count": 115,
     "metadata": {},
     "output_type": "execute_result"
    }
   ],
   "source": [
    "train_refined = pl.read_parquet(Path().resolve().parent / \"data\" / \"gold\" / \"train_refined.parquet\")\n",
    "\n",
    "train_refined.group_by(\"sentiment\").len()"
   ]
  },
  {
   "cell_type": "markdown",
   "id": "50658d3f",
   "metadata": {},
   "source": [
    "## Treinando o modelo com os Gold Labels"
   ]
  },
  {
   "cell_type": "markdown",
   "id": "e1721ea5",
   "metadata": {},
   "source": [
    "Vamos mesclar os dados de treino weak com os dados de treino gold e dar pesos diferentes no treino para cada tipo de previsão"
   ]
  },
  {
   "cell_type": "code",
   "execution_count": 121,
   "id": "57891c82",
   "metadata": {},
   "outputs": [],
   "source": [
    "train = pl.read_parquet(Path().resolve().parent / \"data\" / \"silver\" / \"train.parquet\")\n",
    "train = train.with_columns(pl.lit(\"weak\").alias(\"pred_source\"))\n",
    "train_refined = train_refined.with_columns(pl.lit(\"gold\").alias(\"pred_source\"))\n",
    "\n",
    "# Remove as linhas de train que estão em train_refined (usando doc_id como chave)\n",
    "list_doc_ids = train_refined[\"doc_id\"].to_list()\n",
    "train_filtered = train.filter(~pl.col(\"doc_id\").is_in(list_doc_ids))\n",
    "\n",
    "# Mescla os dataframes\n",
    "train_merged = pl.concat([train_filtered, train_refined], how=\"vertical\")"
   ]
  },
  {
   "cell_type": "markdown",
   "id": "85d6ee47",
   "metadata": {},
   "source": [
    "Vamos treinar o modelo novamente mas dessa vez com os Gold Labels e os pesos diferentes para cada tipo de label"
   ]
  },
  {
   "cell_type": "code",
   "execution_count": null,
   "id": "be615154",
   "metadata": {},
   "outputs": [],
   "source": [
    "features = train_merged[\"review_text\"].to_list()\n",
    "target = train_merged[\"sentiment\"].to_list()\n",
    "pred_source_np = train_merged[\"pred_source\"].to_numpy()"
   ]
  },
  {
   "cell_type": "code",
   "execution_count": null,
   "id": "af8665e8",
   "metadata": {},
   "outputs": [],
   "source": [
    "model = SentenceTransformer(\"paraphrase-multilingual-MiniLM-L12-v2\")\n",
    "X = model.encode(features, show_progress_bar=True)\n",
    "y = np.array(target)"
   ]
  },
  {
   "cell_type": "markdown",
   "id": "f09dbe6d",
   "metadata": {},
   "source": [
    "Vamos fazer uma validação cruzada estratificada com um Grid Search pra achar o melhor peso para cada tipo de label"
   ]
  },
  {
   "cell_type": "code",
   "execution_count": 140,
   "id": "33ea5bf9",
   "metadata": {},
   "outputs": [
    {
     "name": "stdout",
     "output_type": "stream",
     "text": [
      "w_gold: 0.9, w_weak: 0.2, F1 Score Weighted: 0.8799\n",
      "w_gold: 0.9, w_weak: 0.3, F1 Score Weighted: 0.8793\n",
      "w_gold: 0.9, w_weak: 0.5, F1 Score Weighted: 0.8807\n",
      "w_gold: 0.9, w_weak: 0.6, F1 Score Weighted: 0.8812\n",
      "w_gold: 1.0, w_weak: 0.2, F1 Score Weighted: 0.8792\n",
      "w_gold: 1.0, w_weak: 0.3, F1 Score Weighted: 0.8800\n",
      "w_gold: 1.0, w_weak: 0.5, F1 Score Weighted: 0.8797\n",
      "w_gold: 1.0, w_weak: 0.6, F1 Score Weighted: 0.8801\n",
      "w_gold: 1.1, w_weak: 0.2, F1 Score Weighted: 0.8798\n",
      "w_gold: 1.1, w_weak: 0.3, F1 Score Weighted: 0.8792\n",
      "w_gold: 1.1, w_weak: 0.5, F1 Score Weighted: 0.8815\n",
      "w_gold: 1.1, w_weak: 0.6, F1 Score Weighted: 0.8806\n"
     ]
    }
   ],
   "source": [
    "clf = XGBClassifier(\n",
    "    eval_metric=\"mlogloss\", random_state=42\n",
    ")\n",
    "cv = StratifiedKFold(n_splits=5, shuffle=True, random_state=42)\n",
    "\n",
    "le = LabelEncoder()\n",
    "y_encoded = le.fit_transform(y)\n",
    "\n",
    "for w_gold in [0.9, 1.0, 1.1]:\n",
    "    for w_weak in [0.2, 0.3, 0.5, 0.6]:\n",
    "        sample_weights = np.where(pred_source_np == \"gold\", w_gold, w_weak)\n",
    "        score = cross_val_score(\n",
    "            clf,\n",
    "            X,\n",
    "            y_encoded,\n",
    "            cv=cv,\n",
    "            scoring=\"f1_micro\",\n",
    "            params={\"sample_weight\": sample_weights},\n",
    "        )\n",
    "        \n",
    "        print(f\"w_gold: {w_gold}, w_weak: {w_weak}, F1 Score Weighted: {score.mean():.4f}\")"
   ]
  },
  {
   "cell_type": "markdown",
   "id": "170a60eb",
   "metadata": {},
   "source": [
    "> O melhor hiperparâmetro encontrado foi para o peso de gold labels de 1.1 e weak labels de 0.5"
   ]
  },
  {
   "cell_type": "code",
   "execution_count": 141,
   "id": "4eebba82",
   "metadata": {},
   "outputs": [],
   "source": [
    "sample_weights = np.where(pred_source_np == \"gold\", 1.1, 0.5)\n",
    "clf_gold = clf.fit(X, y_encoded, sample_weight=sample_weights)"
   ]
  },
  {
   "cell_type": "code",
   "execution_count": 142,
   "id": "61ce7dc7",
   "metadata": {},
   "outputs": [
    {
     "name": "stderr",
     "output_type": "stream",
     "text": [
      "Batches: 100%|██████████| 7/7 [00:01<00:00,  5.16it/s]"
     ]
    },
    {
     "name": "stdout",
     "output_type": "stream",
     "text": [
      "              precision    recall  f1-score   support\n",
      "\n",
      "    negativo     0.8148    0.8627    0.8381        51\n",
      "      neutro     1.0000    0.1034    0.1875        29\n",
      "    positivo     0.8322    0.9917    0.9049       120\n",
      "\n",
      "    accuracy                         0.8300       200\n",
      "   macro avg     0.8823    0.6526    0.6435       200\n",
      "weighted avg     0.8521    0.8300    0.7839       200\n",
      "\n",
      "Confusion Matrix:\n",
      "[[ 44   0   7]\n",
      " [  9   3  17]\n",
      " [  1   0 119]]\n"
     ]
    },
    {
     "name": "stderr",
     "output_type": "stream",
     "text": [
      "\n"
     ]
    }
   ],
   "source": [
    "# Extrai os textos e labels reais do holdout\n",
    "holdout_texts = holdout[\"review_text\"].to_list()\n",
    "holdout_y = holdout[\"sentiment\"].to_list()\n",
    "\n",
    "# Gera embeddings para o holdout\n",
    "holdout_X = model.encode(holdout_texts, show_progress_bar=True)\n",
    "\n",
    "# Faz predições\n",
    "holdout_pred_encoded = clf_gold.predict(holdout_X)\n",
    "holdout_pred = le.inverse_transform(holdout_pred_encoded)\n",
    "\n",
    "# Avaliação\n",
    "print(classification_report(holdout_y, holdout_pred, digits=4))\n",
    "print(\"Confusion Matrix:\")\n",
    "print(confusion_matrix(holdout_y, holdout_pred))\n"
   ]
  },
  {
   "cell_type": "markdown",
   "id": "fd69b087",
   "metadata": {},
   "source": [
    "> Conseguimos aumentar a performance do modelo, principalmente o F1 Score dos casos Negativos e dos casos Neutros. Um ponto interessante é a Precision dos casos neutros que atingiu 100% o que nos diz que o modelo não apresentará, provavelmente, falsos positivos para essa classe."
   ]
  },
  {
   "cell_type": "markdown",
   "id": "9dced947",
   "metadata": {},
   "source": [
    "## Salvando o modelo treinado"
   ]
  },
  {
   "cell_type": "code",
   "execution_count": 144,
   "id": "8ebfe59c",
   "metadata": {},
   "outputs": [],
   "source": [
    "import pickle\n",
    "\n",
    "dict_model = {\n",
    "    \"model\": clf_gold,\n",
    "    \"label_encoder\": le,\n",
    "    \"sentence_transformer\": model \n",
    "}\n",
    "\n",
    "model_path = Path().resolve().parent / \"model\" / \"sentiment_model.pkl\"\n",
    "with open(model_path, \"wb\") as f:\n",
    "    pickle.dump(dict_model, f)"
   ]
  }
 ],
 "metadata": {
  "kernelspec": {
   "display_name": "dp6",
   "language": "python",
   "name": "python3"
  },
  "language_info": {
   "codemirror_mode": {
    "name": "ipython",
    "version": 3
   },
   "file_extension": ".py",
   "mimetype": "text/x-python",
   "name": "python",
   "nbconvert_exporter": "python",
   "pygments_lexer": "ipython3",
   "version": "3.10.16"
  }
 },
 "nbformat": 4,
 "nbformat_minor": 5
}
