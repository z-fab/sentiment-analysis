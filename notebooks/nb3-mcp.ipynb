{
 "cells": [
  {
   "cell_type": "markdown",
   "id": "333c6018",
   "metadata": {},
   "source": [
    "# Classificação dos Reviews\n",
    "\n",
    "Decidi treinar um classificador porque, uma vez ajustado, ele prediz milhares de reviews a custo quase zero e em milissegundos, evitando as chamadas caras e lentas a um LLM para cada exemplo; além disso, apliquei uma estratégia híbrida: começar com rótulos fracos derivados do score para cobrir rapidamente todo o conjunto e depois refinar o modelo com um subconjunto de rótulos “gold” gerados pelo LLM, aproveitando sua alta precisão apenas onde faz diferença"
   ]
  },
  {
   "cell_type": "code",
   "execution_count": 52,
   "id": "3e172001",
   "metadata": {},
   "outputs": [],
   "source": [
    "from dotenv import load_dotenv\n",
    "from pathlib import Path\n",
    "from openai import OpenAI\n",
    "\n",
    "load_dotenv(dotenv_path=Path().resolve().parent / \".env\");"
   ]
  },
  {
   "cell_type": "code",
   "execution_count": 44,
   "id": "c3308901",
   "metadata": {},
   "outputs": [
    {
     "name": "stdout",
     "output_type": "stream",
     "text": [
      "[TextContent(type='text', text='{\\n  \"sentiment\": \"positivo\",\\n  \"summary\": \"Os reviews do produto destacam uma mistura de experiências positivas e negativas. Muitos usuários expressam satisfação com a qualidade do produto e a execução do pedido, mencionando que tudo estava dentro do esperado e que recomendariam a compra. No entanto, há várias reclamações relacionadas à entrega, incluindo recebimento parcial de pedidos, como no caso de relógios, onde alguns clientes receberam apenas um dos itens solicitados ou produtos diferentes do que esperavam. Também foi mencionada a falta de instruções claras para a utilização do produto, o que gerou confusão entre os usuários. Além disso, alguns relatam problemas com a condição da embalagem ao receber o produto.\",\\n  \"sentiment_distrib\": {\\n    \"Positivo\": 0.68,\\n    \"Negativo\": 0.21,\\n    \"Neutro\": 0.11\\n  },\\n  \"positive_points\": [\\n    \"Produto atende às expectativas\",\\n    \"Satisfação na execução do pedido\",\\n    \"Produto é considerado ótimo\"\\n  ],\\n  \"negative_points\": [\\n    \"Problemas com a entrega de produtos\",\\n    \"Falta de um relógio na entrega\",\\n    \"Produto ainda não foi instalado\"\\n  ],\\n  \"top_reviews\": [\\n    \"entregaram antes da data, o produto é bom. \\\\nobrigada\",\\n    \"Foi entregue no prazo, veio tudo correto, ganhei um mimos, amei meus produtos. Obrigada. Super recomendo.obg\",\\n    \"entregou antes do prazo.super recomendo\"\\n  ]\\n}', annotations=None)]\n"
     ]
    }
   ],
   "source": [
    "from fastmcp import Client\n",
    "\n",
    "async with Client(\"https://2b54-2804-14c-71-4f0f-a920-d13d-4dd6-53f1.ngrok-free.app/mcp/\") as c:\n",
    "    result = await c.call_tool(\"product_sentiment\", {\"product_id\": \"a62e25e09e05e6faf31d90c6ec1aa3d1\"})\n",
    "\n",
    "\n",
    "print(result)"
   ]
  },
  {
   "cell_type": "markdown",
   "id": "7abbee8f",
   "metadata": {},
   "source": [
    "## Testando com API Gemini"
   ]
  },
  {
   "cell_type": "code",
   "execution_count": 83,
   "id": "e416311f",
   "metadata": {},
   "outputs": [],
   "source": [
    "from google import genai\n",
    "from google.genai import types\n",
    "from fastmcp import Client\n",
    "import os\n",
    "\n",
    "client = genai.Client(api_key=os.getenv(\"GEMINI_API_KEY\"))\n",
    "mcp_client = Client(\n",
    "    \"http://localhost:8001/mcp/\"\n",
    ")"
   ]
  },
  {
   "cell_type": "markdown",
   "id": "8973779d",
   "metadata": {},
   "source": [
    "## Testando com API OpenAI\n",
    "A API da openAI só irá funcionar se o MCP estiver rodando com o métrodo de transport SSE"
   ]
  },
  {
   "cell_type": "code",
   "execution_count": 84,
   "id": "78633e95",
   "metadata": {},
   "outputs": [
    {
     "name": "stdout",
     "output_type": "stream",
     "text": [
      "O sentimento geral do produto é positivo, com 68% de avaliações positivas, 21% negativas e 11% neutras. Os pontos positivos incluem a satisfação com a execução do pedido e a qualidade do produto. Os pontos negativos estão relacionados a problemas na entrega, como recebimento parcial de pedidos e produtos diferentes do esperado.\n"
     ]
    }
   ],
   "source": [
    "prompt = (\n",
    "        \"Qual é o sentimento geral do produto \"\n",
    "        \"a62e25e09e05e6faf31d90c6ec1aa3d1?\"\n",
    "    )\n",
    "\n",
    "async with mcp_client:                             # gerencia a sessão MCP\n",
    "    response = await client.aio.models.generate_content(\n",
    "        model=\"gemini-2.0-flash\",\n",
    "        contents=prompt,\n",
    "        config=types.GenerateContentConfig(\n",
    "            tools=[mcp_client.session],\n",
    "            temperature=0.15,\n",
    "            max_output_tokens=512,\n",
    "        ),\n",
    "    )\n",
    "\n",
    "print(response.text)"
   ]
  },
  {
   "cell_type": "code",
   "execution_count": 87,
   "id": "a91a768d",
   "metadata": {},
   "outputs": [
    {
     "name": "stdout",
     "output_type": "stream",
     "text": [
      "O sentimento geral do produto a62e25e09e05e6faf31d90c6ec1aa3d1 é positivo.\n",
      "\n",
      "### Resumo das avaliações:\n",
      "- **Distribuição dos sentimentos:** \n",
      "  - Positivo: 68%\n",
      "  - Negativo: 21%\n",
      "  - Neutro: 11%\n",
      "\n",
      "### Pontos positivos:\n",
      "- Produto atende às expectativas.\n",
      "- Satisfação com a execução do pedido.\n",
      "- Produto considerado ótimo e recomendado por diversos usuários.\n",
      "\n",
      "### Pontos negativos:\n",
      "- Problemas com a entrega de produtos (atrasos ou itens faltando).\n",
      "- Falta de instruções claras de instalação.\n",
      "- Produto não instalado por alguns clientes devido à ausência de orientação.\n",
      "\n",
      "### Exemplos de avaliações:\n",
      "1. \"Entregaram antes da data, o produto é bom. Obrigada.\"\n",
      "2. \"Foi entregue no prazo, veio tudo correto, ganhei um mimo, amei meus produtos. Obrigada. Super recomendo. OBG.\"\n",
      "3. \"Entregou antes do prazo. Super recomendo.\"\n",
      "\n",
      "**Resumo:** Apesar de alguns problemas na entrega e instruções, a maioria dos clientes elogia a qualidade do produto e a agilidade da entrega. A recomendação do produto é frequente entre os avaliadores.\n"
     ]
    }
   ],
   "source": [
    "from openai import OpenAI\n",
    "\n",
    "# Your server URL (replace with your actual URL)\n",
    "url = \"https://3bcc-2804-14c-71-4f0f-a920-d13d-4dd6-53f1.ngrok-free.app/mcp/\"\n",
    "\n",
    "client = OpenAI()\n",
    "\n",
    "resp = client.responses.create(\n",
    "    model=\"gpt-4.1\",\n",
    "    tools=[\n",
    "        {\n",
    "            \"type\": \"mcp\",\n",
    "            \"server_label\": \"sentiment_product\",\n",
    "            \"server_url\": f\"{url}\",\n",
    "            \"require_approval\": \"never\",\n",
    "        },\n",
    "    ],\n",
    "    input=\"Qual é o sentimento geral do produto a62e25e09e05e6faf31d90c6ec1aa3d1\",\n",
    ")\n",
    "\n",
    "print(resp.output_text)\n"
   ]
  },
  {
   "cell_type": "code",
   "execution_count": null,
   "id": "3e0921da",
   "metadata": {},
   "outputs": [],
   "source": []
  }
 ],
 "metadata": {
  "kernelspec": {
   "display_name": "dp6",
   "language": "python",
   "name": "python3"
  },
  "language_info": {
   "codemirror_mode": {
    "name": "ipython",
    "version": 3
   },
   "file_extension": ".py",
   "mimetype": "text/x-python",
   "name": "python",
   "nbconvert_exporter": "python",
   "pygments_lexer": "ipython3",
   "version": "3.10.16"
  }
 },
 "nbformat": 4,
 "nbformat_minor": 5
}
